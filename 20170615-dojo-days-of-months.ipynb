{
 "cells": [
  {
   "cell_type": "markdown",
   "metadata": {
    "deletable": true,
    "editable": true
   },
   "source": [
    "Per [R P Herrold's challenge](https://mail.python.org/pipermail/centraloh/2017-June/003124.html).\n",
    "\n",
    "The hardest part was figuring out what the program\n",
    "was supposed to accomplish.\n",
    "\n",
    "From the email, code documentation, and code itself,\n",
    "I had a very difficult time understanding what the code\n",
    "was trying to accomplish, nevermind how the code was \n",
    "accomplishing it.\n",
    "\n",
    "After studying the code, I made my description below\n",
    "of what the code is to accomplish. It might be \n",
    "different that what the original author envisioned.\n",
    "\n",
    "For number of consecutive months from 1 to 12 inclusive,\n",
    "calculate the maximum possible number of days\n",
    "those consecutive months could have. \n",
    "(Choose the starting month and year that gives highest possible answer.)\n",
    "Also, figure out what the earliest and lastest\n",
    "starting month that can yield the maximum number of days."
   ]
  },
  {
   "cell_type": "markdown",
   "metadata": {
    "deletable": true,
    "editable": true
   },
   "source": [
    "For all my code below, months are numbered starting at 0.\n",
    "That is,\n",
    "\n",
    "0 means January\n",
    "\n",
    "11 means December"
   ]
  },
  {
   "cell_type": "code",
   "execution_count": 1,
   "metadata": {
    "collapsed": true,
    "deletable": true,
    "editable": true
   },
   "outputs": [],
   "source": [
    "MONTHS_PER_YEAR = 12"
   ]
  },
  {
   "cell_type": "code",
   "execution_count": 2,
   "metadata": {
    "collapsed": true,
    "deletable": true,
    "editable": true
   },
   "outputs": [],
   "source": [
    "# for unknown year\n",
    "def max_month_length(month):\n",
    "    \"\"\"Return maximum number of days for given month.\n",
    "    month is zero-based.\n",
    "    That is,\n",
    "    0 means January,\n",
    "    11 means December,\n",
    "    12 means January (again)\n",
    "    -2 means November (yup, wraps around both ways)\"\"\"\n",
    "    max_month_lengths = (\n",
    "        31, 29, 31, 30, 31, 30, 31, 31, 30, 31, 30, 31)\n",
    "    return max_month_lengths[month % len(max_month_lengths)]"
   ]
  },
  {
   "cell_type": "code",
   "execution_count": 3,
   "metadata": {
    "collapsed": false,
    "deletable": true,
    "editable": true
   },
   "outputs": [
    {
     "data": {
      "text/plain": [
       "31"
      ]
     },
     "execution_count": 3,
     "metadata": {},
     "output_type": "execute_result"
    }
   ],
   "source": [
    "max_month_length(0)  # January"
   ]
  },
  {
   "cell_type": "code",
   "execution_count": 4,
   "metadata": {
    "collapsed": false,
    "deletable": true,
    "editable": true
   },
   "outputs": [
    {
     "data": {
      "text/plain": [
       "29"
      ]
     },
     "execution_count": 4,
     "metadata": {},
     "output_type": "execute_result"
    }
   ],
   "source": [
    "max_month_length(13)  # February"
   ]
  },
  {
   "cell_type": "code",
   "execution_count": 5,
   "metadata": {
    "collapsed": false,
    "deletable": true,
    "editable": true
   },
   "outputs": [
    {
     "data": {
      "text/plain": [
       "30"
      ]
     },
     "execution_count": 5,
     "metadata": {},
     "output_type": "execute_result"
    }
   ],
   "source": [
    "max_month_length(-2)  # November"
   ]
  },
  {
   "cell_type": "code",
   "execution_count": 6,
   "metadata": {
    "collapsed": true,
    "deletable": true,
    "editable": true
   },
   "outputs": [],
   "source": [
    "def max_days_n_months(n_months, starting_month=None):\n",
    "    \"\"\"Return the maximum number of days\n",
    "    in n_months whole consecutive months,\n",
    "    optionally starting with starting_month.\n",
    "    \n",
    "    If starting_month is None or is not specified,\n",
    "    return highest value for all possible starting months.\"\"\"\n",
    "    if starting_month is not None:\n",
    "        return sum(\n",
    "            max_month_length(month)\n",
    "            for month in range(starting_month, starting_month + n_months)\n",
    "        )\n",
    "    \n",
    "    return max(\n",
    "        max_days_n_months(n_months, starting_month)\n",
    "        for starting_month in range(MONTHS_PER_YEAR)\n",
    "    )"
   ]
  },
  {
   "cell_type": "code",
   "execution_count": 7,
   "metadata": {
    "collapsed": false,
    "deletable": true,
    "editable": true
   },
   "outputs": [],
   "source": [
    "def foo(n):\n",
    "    for n_months in range(1, n+1):\n",
    "        n_days = max_days_n_months(n_months)\n",
    "        yield n_months, n_days"
   ]
  },
  {
   "cell_type": "code",
   "execution_count": 8,
   "metadata": {
    "collapsed": false,
    "deletable": true,
    "editable": true
   },
   "outputs": [
    {
     "data": {
      "text/plain": [
       "[(1, 31),\n",
       " (2, 62),\n",
       " (3, 92),\n",
       " (4, 123),\n",
       " (5, 153),\n",
       " (6, 184),\n",
       " (7, 215),\n",
       " (8, 245),\n",
       " (9, 276),\n",
       " (10, 306),\n",
       " (11, 337),\n",
       " (12, 366)]"
      ]
     },
     "execution_count": 8,
     "metadata": {},
     "output_type": "execute_result"
    }
   ],
   "source": [
    "n = MONTHS_PER_YEAR\n",
    "# %timeit list(foo(n))\n",
    "list(foo(n))"
   ]
  },
  {
   "cell_type": "markdown",
   "metadata": {
    "deletable": true,
    "editable": true
   },
   "source": [
    "The maximum number of days in the above output\n",
    "matches that output by [days_spanned.sh](https://github.com/herrold/tool-tips/blob/master/convenience/days_spanned.sh).\n",
    "\n",
    "Now to add the stuff that keeps track of which \n",
    "starting months can yield those maximum number of days."
   ]
  },
  {
   "cell_type": "code",
   "execution_count": 9,
   "metadata": {
    "collapsed": false,
    "deletable": true,
    "editable": true
   },
   "outputs": [],
   "source": [
    "from collections import defaultdict\n",
    "\n",
    "def max_n_days_for_months():\n",
    "    \"\"\"Yield tuples of\n",
    "        number of consecutive months,\n",
    "        maximum number of days for those consecutive months\n",
    "        and list of starting months which produce that above maximum\n",
    "    for all numbers of consecutive months up to a year.\"\"\"\n",
    "    for n_months in range(1, MONTHS_PER_YEAR+1):\n",
    "        d = defaultdict(list)\n",
    "        for starting_month in range(MONTHS_PER_YEAR):\n",
    "            n_days = max_days_n_months(n_months, starting_month)\n",
    "            d[n_days].append(starting_month)\n",
    "        max_n_days = max(d)\n",
    "        yield n_months, max_n_days, sorted(d[max_n_days])"
   ]
  },
  {
   "cell_type": "code",
   "execution_count": 10,
   "metadata": {
    "collapsed": false,
    "deletable": true,
    "editable": true
   },
   "outputs": [
    {
     "data": {
      "text/plain": [
       "[(1, 31, [0, 2, 4, 6, 7, 9, 11]),\n",
       " (2, 62, [6, 11]),\n",
       " (3, 92, [2, 4, 5, 6, 7, 9, 10]),\n",
       " (4, 123, [4, 6, 9]),\n",
       " (5, 153, [2, 3, 4, 5, 6, 7, 8]),\n",
       " (6, 184, [2, 4, 6, 7]),\n",
       " (7, 215, [6]),\n",
       " (8, 245, [2, 4, 5]),\n",
       " (9, 276, [4]),\n",
       " (10, 306, [2, 3]),\n",
       " (11, 337, [2]),\n",
       " (12, 366, [0, 1, 2, 3, 4, 5, 6, 7, 8, 9, 10, 11])]"
      ]
     },
     "execution_count": 10,
     "metadata": {},
     "output_type": "execute_result"
    }
   ],
   "source": [
    "# %timeit list(max_n_days_for_months())\n",
    "list(max_n_days_for_months())"
   ]
  },
  {
   "cell_type": "code",
   "execution_count": 11,
   "metadata": {
    "collapsed": false,
    "deletable": true,
    "editable": true
   },
   "outputs": [],
   "source": [
    "def pretty():\n",
    "    \"\"\"Yields lines to be absolutely identical \n",
    "    to that from days_spanned.sh.\"\"\"\n",
    "    for selector, name in ((min, '-gt'), (max, '-ge')):\n",
    "        yield f'Compare: {name} '\n",
    "        for n_months, max_n_days, months in max_n_days_for_months():\n",
    "            month = selector(months) + 1\n",
    "            if n_months == 1:\n",
    "                yield f'month: {month} month spans: {max_n_days} days  '\n",
    "            elif n_months == 2:\n",
    "                yield f'month: {month} plus following month spans: {max_n_days} days  '\n",
    "            else:\n",
    "                yield f'month: {month} plus following {n_months - 1} months spans: {max_n_days} days  '\n",
    "        yield ''"
   ]
  },
  {
   "cell_type": "code",
   "execution_count": 12,
   "metadata": {
    "collapsed": false,
    "deletable": true,
    "editable": true
   },
   "outputs": [
    {
     "name": "stdout",
     "output_type": "stream",
     "text": [
      "Compare: -gt \n",
      "month: 1 month spans: 31 days  \n",
      "month: 7 plus following month spans: 62 days  \n",
      "month: 3 plus following 2 months spans: 92 days  \n",
      "month: 5 plus following 3 months spans: 123 days  \n",
      "month: 3 plus following 4 months spans: 153 days  \n",
      "month: 3 plus following 5 months spans: 184 days  \n",
      "month: 7 plus following 6 months spans: 215 days  \n",
      "month: 3 plus following 7 months spans: 245 days  \n",
      "month: 5 plus following 8 months spans: 276 days  \n",
      "month: 3 plus following 9 months spans: 306 days  \n",
      "month: 3 plus following 10 months spans: 337 days  \n",
      "month: 1 plus following 11 months spans: 366 days  \n",
      "\n",
      "Compare: -ge \n",
      "month: 12 month spans: 31 days  \n",
      "month: 12 plus following month spans: 62 days  \n",
      "month: 11 plus following 2 months spans: 92 days  \n",
      "month: 10 plus following 3 months spans: 123 days  \n",
      "month: 9 plus following 4 months spans: 153 days  \n",
      "month: 8 plus following 5 months spans: 184 days  \n",
      "month: 7 plus following 6 months spans: 215 days  \n",
      "month: 6 plus following 7 months spans: 245 days  \n",
      "month: 5 plus following 8 months spans: 276 days  \n",
      "month: 4 plus following 9 months spans: 306 days  \n",
      "month: 3 plus following 10 months spans: 337 days  \n",
      "month: 12 plus following 11 months spans: 366 days  \n",
      "\n"
     ]
    }
   ],
   "source": [
    "for line in pretty():\n",
    "    print(line)"
   ]
  },
  {
   "cell_type": "markdown",
   "metadata": {
    "deletable": true,
    "editable": true
   },
   "source": [
    "The above output exactly matches the output from \n",
    "[days_spanned.sh](https://github.com/herrold/tool-tips/blob/master/convenience/days_spanned.sh),\n",
    "but my code is ugly.\n",
    "The code above is not as readable as I like.\n",
    "\n",
    "Later, I polished below."
   ]
  },
  {
   "cell_type": "code",
   "execution_count": 13,
   "metadata": {
    "collapsed": true,
    "deletable": true,
    "editable": true
   },
   "outputs": [],
   "source": [
    "known_good_output = ''.join(f'{line}\\n' for line in pretty())"
   ]
  },
  {
   "cell_type": "code",
   "execution_count": 14,
   "metadata": {
    "collapsed": true,
    "deletable": true,
    "editable": true
   },
   "outputs": [],
   "source": [
    "def pretty():\n",
    "    \"\"\"Yields lines to be absolutely identical \n",
    "    to that from days_spanned.sh.\"\"\"\n",
    "    for selector, name in ((min, '-gt'), (max, '-ge')):\n",
    "        yield f'Compare: {name} '\n",
    "        for n_months, max_n_days, months in max_n_days_for_months():\n",
    "            month = selector(months) + 1\n",
    "            if n_months == 1:\n",
    "                duration_prose = f'month'\n",
    "            elif n_months == 2:\n",
    "                duration_prose = f'plus following month'\n",
    "            else:\n",
    "                duration_prose = f'plus following {n_months - 1} months'\n",
    "            yield f'month: {month} {duration_prose} spans: {max_n_days} days  '\n",
    "        yield ''"
   ]
  },
  {
   "cell_type": "code",
   "execution_count": 15,
   "metadata": {
    "collapsed": false,
    "deletable": true,
    "editable": true
   },
   "outputs": [],
   "source": [
    "assert known_good_output == ''.join(f'{line}\\n' for line in pretty())"
   ]
  },
  {
   "cell_type": "markdown",
   "metadata": {},
   "source": [
    "Now to change the output to be more readable to me."
   ]
  },
  {
   "cell_type": "code",
   "execution_count": 16,
   "metadata": {
    "collapsed": false,
    "deletable": true,
    "editable": true
   },
   "outputs": [
    {
     "data": {
      "text/plain": [
       "['January',\n",
       " 'February',\n",
       " 'March',\n",
       " 'April',\n",
       " 'May',\n",
       " 'June',\n",
       " 'July',\n",
       " 'August',\n",
       " 'September',\n",
       " 'October',\n",
       " 'November',\n",
       " 'December']"
      ]
     },
     "execution_count": 16,
     "metadata": {},
     "output_type": "execute_result"
    }
   ],
   "source": [
    "MONTH_NAMES = '''\n",
    "    January February March April May June\n",
    "    July August September October November December\n",
    "'''.split()\n",
    "\n",
    "MONTH_NAMES"
   ]
  },
  {
   "cell_type": "code",
   "execution_count": 17,
   "metadata": {
    "collapsed": true,
    "deletable": true,
    "editable": true
   },
   "outputs": [],
   "source": [
    "# derived from https://stackoverflow.com/questions/38981302/converting-a-list-into-comma-separated-string-with-and-before-the-last-item\n",
    "\n",
    "def oxford_comma_join(items, join_word='and'):\n",
    "    # print(f'items={items!r} join_word={join_word!r}')\n",
    "    items = list(items)\n",
    "    if not items:\n",
    "        return ''\n",
    "    elif len(items) == 1:\n",
    "        return items[0]\n",
    "    elif len(items) == 2:\n",
    "        return f' {join_word} '.join(items)\n",
    "    else:\n",
    "        return ', '.join(items[:-1]) + f', {join_word} ' + items[-1]\n"
   ]
  },
  {
   "cell_type": "code",
   "execution_count": 18,
   "metadata": {
    "collapsed": false,
    "deletable": true,
    "editable": true
   },
   "outputs": [],
   "source": [
    "test_data = (\n",
    "    # (args for oxford_comma_join, correct output),\n",
    "    ((('',),), ''),\n",
    "    ((('lonesome term',),), 'lonesome term'),\n",
    "    ((('here', 'there'),), 'here and there'),\n",
    "    ((('you', 'me', 'I'), 'or'), 'you, me, or I'),\n",
    "    ((['here', 'there', 'everywhere'], 'or'), 'here, there, or everywhere'),\n",
    ")\n",
    "\n",
    "for args, known_good_output in test_data:\n",
    "    # print(f'args={args!r}, k={known_good_output!r}, output={oxford_comma_join(*args)!r}')\n",
    "    assert oxford_comma_join(*args) == known_good_output"
   ]
  },
  {
   "cell_type": "code",
   "execution_count": 19,
   "metadata": {
    "collapsed": true,
    "deletable": true,
    "editable": true
   },
   "outputs": [],
   "source": [
    "import inflect\n",
    "\n",
    "p = inflect.engine()"
   ]
  },
  {
   "cell_type": "code",
   "execution_count": 20,
   "metadata": {
    "collapsed": true,
    "deletable": true,
    "editable": true
   },
   "outputs": [],
   "source": [
    "from textwrap import wrap"
   ]
  },
  {
   "cell_type": "code",
   "execution_count": 21,
   "metadata": {
    "collapsed": false,
    "deletable": true,
    "editable": true
   },
   "outputs": [],
   "source": [
    "def pretty():\n",
    "    \"\"\"For number of consecutive months, up to 12,\n",
    "    yields sentences that show for each number of consecutive months,\n",
    "    the maximum possible number of days in those consecutive months,\n",
    "    and for which starting months one can get have\n",
    "    those maximum possible number of days.\"\"\"\n",
    "    for n_months, max_n_days, months in max_n_days_for_months():\n",
    "        month_names = (MONTH_NAMES[month] for month in months)\n",
    "        yield (\n",
    "            f'{n_months} consecutive {p.plural(\"month\", n_months)} '\n",
    "            f'can have at most {max_n_days} days '\n",
    "            f'if starting in {oxford_comma_join(month_names, \"or\")}.'\n",
    "        )"
   ]
  },
  {
   "cell_type": "code",
   "execution_count": 22,
   "metadata": {
    "collapsed": false,
    "deletable": true,
    "editable": true,
    "scrolled": true
   },
   "outputs": [
    {
     "name": "stdout",
     "output_type": "stream",
     "text": [
      "1 consecutive month can have at most 31 days if starting in January,\n",
      "March, May, July, August, October, or December.\n",
      "2 consecutive months can have at most 62 days if starting in July or\n",
      "December.\n",
      "3 consecutive months can have at most 92 days if starting in March,\n",
      "May, June, July, August, October, or November.\n",
      "4 consecutive months can have at most 123 days if starting in May,\n",
      "July, or October.\n",
      "5 consecutive months can have at most 153 days if starting in March,\n",
      "April, May, June, July, August, or September.\n",
      "6 consecutive months can have at most 184 days if starting in March,\n",
      "May, July, or August.\n",
      "7 consecutive months can have at most 215 days if starting in July.\n",
      "8 consecutive months can have at most 245 days if starting in March,\n",
      "May, or June.\n",
      "9 consecutive months can have at most 276 days if starting in May.\n",
      "10 consecutive months can have at most 306 days if starting in March\n",
      "or April.\n",
      "11 consecutive months can have at most 337 days if starting in March.\n",
      "12 consecutive months can have at most 366 days if starting in\n",
      "January, February, March, April, May, June, July, August, September,\n",
      "October, November, or December.\n"
     ]
    }
   ],
   "source": [
    "for sentence in pretty():\n",
    "    for line in wrap(sentence):\n",
    "        print(line)"
   ]
  },
  {
   "cell_type": "code",
   "execution_count": 23,
   "metadata": {
    "collapsed": false,
    "deletable": true,
    "editable": true
   },
   "outputs": [],
   "source": [
    "def not_so_pretty():\n",
    "    \"\"\"For number of consecutive months, up to 12,\n",
    "    yields sentences that show for each number of consecutive months,\n",
    "    the maximum possible number of days in those consecutive months,\n",
    "    and for which starting months one can get have\n",
    "    those maximum possible number of days.\"\"\"\n",
    "    for n_months, max_n_days, months in max_n_days_for_months():\n",
    "        month_names = (MONTH_NAMES[month][:3] for month in months)\n",
    "        yield (\n",
    "            f'{n_months} months '\n",
    "            f'have max {max_n_days} days '\n",
    "            f'starting in {oxford_comma_join(month_names, \"or\")}.'\n",
    "        )"
   ]
  },
  {
   "cell_type": "code",
   "execution_count": 24,
   "metadata": {
    "collapsed": false,
    "deletable": true,
    "editable": true,
    "scrolled": true
   },
   "outputs": [
    {
     "name": "stdout",
     "output_type": "stream",
     "text": [
      "1 months have max 31 days starting in Jan, Mar, May, Jul, Aug, Oct, or Dec.\n",
      "2 months have max 62 days starting in Jul or Dec.\n",
      "3 months have max 92 days starting in Mar, May, Jun, Jul, Aug, Oct, or Nov.\n",
      "4 months have max 123 days starting in May, Jul, or Oct.\n",
      "5 months have max 153 days starting in Mar, Apr, May, Jun, Jul, Aug, or Sep.\n",
      "6 months have max 184 days starting in Mar, May, Jul, or Aug.\n",
      "7 months have max 215 days starting in Jul.\n",
      "8 months have max 245 days starting in Mar, May, or Jun.\n",
      "9 months have max 276 days starting in May.\n",
      "10 months have max 306 days starting in Mar or Apr.\n",
      "11 months have max 337 days starting in Mar.\n",
      "12 months have max 366 days starting in Jan, Feb, Mar, Apr, May, Jun, Jul, Aug, Sep, Oct, Nov, or Dec.\n"
     ]
    }
   ],
   "source": [
    "for sentence in not_so_pretty():\n",
    "    print(sentence)"
   ]
  }
 ],
 "metadata": {
  "kernelspec": {
   "display_name": "Python 3",
   "language": "python",
   "name": "python3"
  },
  "language_info": {
   "codemirror_mode": {
    "name": "ipython",
    "version": 3
   },
   "file_extension": ".py",
   "mimetype": "text/x-python",
   "name": "python",
   "nbconvert_exporter": "python",
   "pygments_lexer": "ipython3",
   "version": "3.6.0"
  }
 },
 "nbformat": 4,
 "nbformat_minor": 2
}
