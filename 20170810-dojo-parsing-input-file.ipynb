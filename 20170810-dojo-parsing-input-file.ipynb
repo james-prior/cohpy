{
 "cells": [
  {
   "cell_type": "code",
   "execution_count": null,
   "metadata": {
    "collapsed": false,
    "deletable": true,
    "editable": true
   },
   "outputs": [],
   "source": [
    "filename = '20170810-addition-list.txt'"
   ]
  },
  {
   "cell_type": "code",
   "execution_count": null,
   "metadata": {
    "collapsed": false,
    "deletable": true,
    "editable": true
   },
   "outputs": [],
   "source": [
    "with open(filename) as f:\n",
    "    for line in f:\n",
    "        question, correct_answer = line.rsplit(':', 1)\n",
    "        answer = input(f'what is {question}')\n",
    "        # print(answer, correct_answer)\n",
    "        if answer.strip() == correct_answer.strip():\n",
    "            print('good')\n",
    "        else:\n",
    "            print('bad')"
   ]
  },
  {
   "cell_type": "code",
   "execution_count": null,
   "metadata": {
    "collapsed": false,
    "deletable": true,
    "editable": true
   },
   "outputs": [],
   "source": [
    "with open(filename) as f:\n",
    "    for line in f:\n",
    "        question, correct_answer_to_ignore = line.rsplit(':', 1)\n",
    "        answer = input(f'what is {question}')\n",
    "        correct_answer = str(eval(question))\n",
    "        # print(answer, correct_answer)\n",
    "        if answer.strip() == correct_answer.strip():\n",
    "            print('good')\n",
    "        else:\n",
    "            print('bad')"
   ]
  },
  {
   "cell_type": "code",
   "execution_count": 1,
   "metadata": {
    "collapsed": false,
    "deletable": true,
    "editable": true
   },
   "outputs": [],
   "source": [
    "from random import randint, choice\n",
    "from operator import add, sub as subtract, mul as multiply, floordiv as divide\n",
    "from collections import OrderedDict\n",
    "from functools import partial"
   ]
  },
  {
   "cell_type": "code",
   "execution_count": 2,
   "metadata": {
    "collapsed": false,
    "deletable": true,
    "editable": true
   },
   "outputs": [
    {
     "data": {
      "text/plain": [
       "[5, 3, 2, 5, 2, 3, 4, 5, 5, 2]"
      ]
     },
     "execution_count": 2,
     "metadata": {},
     "output_type": "execute_result"
    }
   ],
   "source": [
    "[randint(1, 5) for _ in range(10)]"
   ]
  },
  {
   "cell_type": "code",
   "execution_count": 3,
   "metadata": {
    "collapsed": false,
    "deletable": true,
    "editable": true
   },
   "outputs": [],
   "source": [
    "def math_quiz():\n",
    "    operators = OrderedDict((\n",
    "        ('+', add),\n",
    "        ('-', subtract),\n",
    "        ('*', multiply),\n",
    "        ('/', divide),\n",
    "    ))\n",
    "\n",
    "    if False:\n",
    "        prompt = f'Enter {\", \".join(operators.keys())}, or q to quit. '\n",
    "        for operator_symbol in iter(partial(input, prompt), 'q'):\n",
    "            if operator_symbol in operators:\n",
    "                break\n",
    "            print('try again')\n",
    "\n",
    "    prompt = f'Enter minimum integer or q to quit. '\n",
    "    for s in iter(partial(input, prompt), 'q'):\n",
    "        try:\n",
    "            minimum = int(s)\n",
    "        except ValueError:\n",
    "            print('try again')\n",
    "        else:\n",
    "            break\n",
    "\n",
    "    prompt = f'Enter maximum integer or q to quit. '\n",
    "    for s in iter(partial(input, prompt), 'q'):\n",
    "        try:\n",
    "            maximum = int(s)\n",
    "        except ValueError:\n",
    "            print('try again')\n",
    "        else:\n",
    "            break\n",
    "\n",
    "    minimum, maximum = sorted((minimum, maximum))\n",
    "\n",
    "    while True:\n",
    "        operator_symbol = choice(list(operators.keys()))\n",
    "        x, y = (randint(minimum, maximum) for _ in range(2))\n",
    "        prompt = f'What is {x} {operator_symbol} {y}? (or q to quit) '\n",
    "        answer = input(prompt)\n",
    "        if answer.lower()[0] == 'q':\n",
    "            break\n",
    "        correct_answer = operators[operator_symbol](x, y)\n",
    "        if answer.strip() == str(correct_answer):\n",
    "            print('Correct!')\n",
    "        else:\n",
    "            print('Wrong!')"
   ]
  },
  {
   "cell_type": "code",
   "execution_count": 4,
   "metadata": {
    "collapsed": false,
    "deletable": true,
    "editable": true
   },
   "outputs": [
    {
     "name": "stdout",
     "output_type": "stream",
     "text": [
      "Enter minimum integer or q to quit. -8\n",
      "Enter maximum integer or q to quit. +5\n",
      "What is -8 / 1? (or q to quit) -8\n",
      "Correct!\n",
      "What is 5 + -5? (or q to quit) 0\n",
      "Correct!\n",
      "What is -1 + -3? (or q to quit) -4\n",
      "Correct!\n",
      "What is 3 / -3? (or q to quit) 1\n",
      "Wrong!\n",
      "What is 4 - 0? (or q to quit) q\n"
     ]
    }
   ],
   "source": [
    "math_quiz()"
   ]
  }
 ],
 "metadata": {
  "kernelspec": {
   "display_name": "Python 3",
   "language": "python",
   "name": "python3"
  },
  "language_info": {
   "codemirror_mode": {
    "name": "ipython",
    "version": 3
   },
   "file_extension": ".py",
   "mimetype": "text/x-python",
   "name": "python",
   "nbconvert_exporter": "python",
   "pygments_lexer": "ipython3",
   "version": "3.6.0"
  }
 },
 "nbformat": 4,
 "nbformat_minor": 2
}
