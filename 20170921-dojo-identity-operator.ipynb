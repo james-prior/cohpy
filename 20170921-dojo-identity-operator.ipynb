{
 "cells": [
  {
   "cell_type": "markdown",
   "metadata": {
    "deletable": true,
    "editable": true
   },
   "source": [
    "Beware of the identity operator 'is'.\n",
    "\n",
    "The code in Finder._order() of\n",
    "[find.py](https://github.com/dae/anki/blob/bd414595de971ac29b54d521d734140eee7d80ee/anki/find.py)\n",
    "is aromatic.\n",
    "One line, line 209, goes beyond being merely aromatic. It scares me.\n",
    "The following shows my fears for using the 'is' operator.\n",
    "For each of the following cells,\n",
    "predict the output before looking at the output.\n",
    "\n",
    "Imagine an implementation of Python that would have multiple True objects."
   ]
  },
  {
   "cell_type": "code",
   "execution_count": 1,
   "metadata": {
    "collapsed": false,
    "deletable": true,
    "editable": true
   },
   "outputs": [
    {
     "data": {
      "text/plain": [
       "True"
      ]
     },
     "execution_count": 1,
     "metadata": {},
     "output_type": "execute_result"
    }
   ],
   "source": [
    "1 == True"
   ]
  },
  {
   "cell_type": "code",
   "execution_count": 2,
   "metadata": {
    "collapsed": false,
    "deletable": true,
    "editable": true
   },
   "outputs": [
    {
     "data": {
      "text/plain": [
       "False"
      ]
     },
     "execution_count": 2,
     "metadata": {},
     "output_type": "execute_result"
    }
   ],
   "source": [
    "1 is True"
   ]
  },
  {
   "cell_type": "code",
   "execution_count": 3,
   "metadata": {
    "collapsed": false,
    "deletable": true,
    "editable": true
   },
   "outputs": [
    {
     "name": "stdout",
     "output_type": "stream",
     "text": [
      "1000000 1000000 True True\n",
      "1000000 1000001 False False\n",
      "1000000 1000000 True False\n"
     ]
    }
   ],
   "source": [
    "a = 10**6\n",
    "b = a  # b refers to same object as a.\n",
    "print(a, b, a == b, a is b)\n",
    "\n",
    "b += 1\n",
    "print(a, b, a == b, a is b)\n",
    "\n",
    "b -= 1  # b has same value as a, but refers to different object than a.\n",
    "print(a, b, a == b, a is b)"
   ]
  },
  {
   "cell_type": "code",
   "execution_count": 4,
   "metadata": {
    "collapsed": false,
    "deletable": true,
    "editable": true
   },
   "outputs": [
    {
     "name": "stdout",
     "output_type": "stream",
     "text": [
      "5 5 True True\n",
      "5 6 False False\n",
      "5 5 True True\n"
     ]
    }
   ],
   "source": [
    "# This implementation of Python shares objects for small numbers.\n",
    "# I think this behavior is _not_ guaranteed.\n",
    "\n",
    "a = 5\n",
    "b = 5\n",
    "print(a, b, a == b, a is b)\n",
    "\n",
    "b += 1\n",
    "print(a, b, a == b, a is b)\n",
    "\n",
    "b -= 1\n",
    "print(a, b, a == b, a is b)"
   ]
  },
  {
   "cell_type": "code",
   "execution_count": 5,
   "metadata": {
    "collapsed": false,
    "deletable": true,
    "editable": true
   },
   "outputs": [
    {
     "name": "stdout",
     "output_type": "stream",
     "text": [
      "1 1 True True\n",
      "True 1 True False\n",
      "True True True True\n",
      "True 2 False False\n",
      "True 1 True False\n",
      "True True True True\n"
     ]
    }
   ],
   "source": [
    "# 1 and True have the same value, but are different objects.\n",
    "# I think that this implementation Python shares objects for True.\n",
    "# I think that this behavior is not guaranteed.\n",
    "\n",
    "a = 1\n",
    "b = 1\n",
    "print(a, b, a == b, a is b)\n",
    "\n",
    "a = True\n",
    "print(a, b, a == b, a is b)\n",
    "\n",
    "b = True\n",
    "print(a, b, a == b, a is b)\n",
    "\n",
    "b += 1\n",
    "print(a, b, a == b, a is b)\n",
    "\n",
    "b -= 1\n",
    "print(a, b, a == b, a is b)\n",
    "\n",
    "b = (a == b)\n",
    "print(a, b, a == b, a is b)"
   ]
  }
 ],
 "metadata": {
  "kernelspec": {
   "display_name": "Python 3",
   "language": "python",
   "name": "python3"
  },
  "language_info": {
   "codemirror_mode": {
    "name": "ipython",
    "version": 3
   },
   "file_extension": ".py",
   "mimetype": "text/x-python",
   "name": "python",
   "nbconvert_exporter": "python",
   "pygments_lexer": "ipython3",
   "version": "3.6.0"
  }
 },
 "nbformat": 4,
 "nbformat_minor": 2
}
