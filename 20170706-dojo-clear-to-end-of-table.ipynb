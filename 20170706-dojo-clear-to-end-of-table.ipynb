{
 "cells": [
  {
   "cell_type": "code",
   "execution_count": 1,
   "metadata": {
    "collapsed": false,
    "deletable": true,
    "editable": true
   },
   "outputs": [
    {
     "name": "stdout",
     "output_type": "stream",
     "text": [
      "/home/jep/anaconda3/envs/jupy/bin/20170706_c_foo\n"
     ]
    }
   ],
   "source": [
    "%%script bash\n",
    "\n",
    "cat >20170706_head.c <<EOF\n",
    "#include <stdlib.h>\n",
    "#include <stdio.h>\n",
    "\n",
    "#define LINES (3)\n",
    "#define COLUMNS (4)\n",
    "\n",
    "void print_buf(char buf[LINES][COLUMNS])\n",
    "{\n",
    "    for (int row = 0; row < LINES; row++) {\n",
    "        for (int column = 0; column < COLUMNS; column++)\n",
    "            putchar(buf[row][column]);\n",
    "        putchar('\\n');\n",
    "    }\n",
    "}\n",
    "EOF\n",
    "cat >20170706_tail.c <<EOF\n",
    "\n",
    "int main(int argc, char *argv())\n",
    "{\n",
    "    char buf[LINES][COLUMNS];\n",
    "    \n",
    "    for (int row = 0; row < LINES; row++)\n",
    "        for (int column = 0; column < COLUMNS; column++)\n",
    "            buf[row][column] = '@';\n",
    "    blank(buf, 1, 2);\n",
    "    print_buf(buf);\n",
    "}\n",
    "EOF\n",
    "\n",
    "program_name=\"${PATH%%:*}/20170706_c_foo\"\n",
    "echo $program_name\n",
    "cat >\"$program_name\" <<EOF\n",
    "#!/usr/bin/env sh\n",
    "cat 20170706_head.c >20170706_blank.c\n",
    "cat >>20170706_blank.c\n",
    "cat 20170706_tail.c >>20170706_blank.c\n",
    "cc     20170706_blank.c   -o 20170706_blank\n",
    "./20170706_blank | tr ' ' '.'\n",
    "EOF\n",
    "chmod +x \"$program_name\""
   ]
  },
  {
   "cell_type": "code",
   "execution_count": 2,
   "metadata": {
    "collapsed": false,
    "deletable": true,
    "editable": true
   },
   "outputs": [
    {
     "name": "stdout",
     "output_type": "stream",
     "text": [
      "@@@@\n",
      "@@..\n",
      "....\n"
     ]
    }
   ],
   "source": [
    "%%script 20170706_c_foo\n",
    "\n",
    "void blank(char buf[LINES][COLUMNS], int row, int column)\n",
    "{\n",
    "    goto MIDDLE;\n",
    "\n",
    "    for ( ; row < LINES; row++)\n",
    "        for (column = 0; column < COLUMNS; column++)\n",
    "            MIDDLE: buf[row][column] = ' ';\n",
    "}"
   ]
  },
  {
   "cell_type": "markdown",
   "metadata": {},
   "source": [
    "The above is what the output should look like."
   ]
  },
  {
   "cell_type": "code",
   "execution_count": 3,
   "metadata": {
    "collapsed": false,
    "deletable": true,
    "editable": true
   },
   "outputs": [
    {
     "name": "stdout",
     "output_type": "stream",
     "text": [
      "@@@@\n",
      "@@..\n",
      "....\n"
     ]
    }
   ],
   "source": [
    "%%script 20170706_c_foo\n",
    "\n",
    "void blank(char buf[LINES][COLUMNS], int row, int column)\n",
    "{\n",
    "    for ( ; row < LINES; row++) {\n",
    "        for ( ; column < COLUMNS; column++)\n",
    "            buf[row][column] = ' ';\n",
    "        column = 0;\n",
    "    }\n",
    "}"
   ]
  },
  {
   "cell_type": "code",
   "execution_count": 4,
   "metadata": {
    "collapsed": false,
    "deletable": true,
    "editable": true
   },
   "outputs": [
    {
     "name": "stdout",
     "output_type": "stream",
     "text": [
      "@@@@\n",
      "@@..\n",
      "....\n"
     ]
    }
   ],
   "source": [
    "%%script 20170706_c_foo\n",
    "\n",
    "void blank_to_end_of_row(char buf[LINES][COLUMNS], int row, int column)\n",
    "{\n",
    "    for ( ;column < COLUMNS; column++)\n",
    "        buf[row][column] = ' ';\n",
    "}\n",
    "\n",
    "void blank_row(char buf[LINES][COLUMNS], int row)\n",
    "{\n",
    "    blank_to_end_of_row(buf, row, 0);\n",
    "}\n",
    "\n",
    "void blank(char buf[LINES][COLUMNS], int row, int column)\n",
    "{\n",
    "    blank_to_end_of_row(buf, row++, column);\n",
    "\n",
    "    for ( ; row < LINES; row++)\n",
    "        blank_row(buf, row);\n",
    "}"
   ]
  },
  {
   "cell_type": "code",
   "execution_count": 5,
   "metadata": {
    "collapsed": false,
    "deletable": true,
    "editable": true
   },
   "outputs": [
    {
     "name": "stdout",
     "output_type": "stream",
     "text": [
      "@@@@\n",
      "@@..\n",
      "....\n"
     ]
    }
   ],
   "source": [
    "%%script 20170706_c_foo\n",
    "\n",
    "void blank_to_end_of_row(char buf[LINES][COLUMNS], int row, int column)\n",
    "{\n",
    "    for ( ;column < COLUMNS; column++)\n",
    "        buf[row][column] = ' ';\n",
    "}\n",
    "\n",
    "void blank(char buf[LINES][COLUMNS], int row, int column)\n",
    "{\n",
    "    blank_to_end_of_row(buf, row++, column);\n",
    "\n",
    "    for ( ; row < LINES; row++)\n",
    "        blank_to_end_of_row(buf, row, 0);\n",
    "}"
   ]
  },
  {
   "cell_type": "markdown",
   "metadata": {
    "deletable": true,
    "editable": true
   },
   "source": [
    "Now for some Python."
   ]
  },
  {
   "cell_type": "code",
   "execution_count": 6,
   "metadata": {
    "collapsed": true,
    "deletable": true,
    "editable": true
   },
   "outputs": [],
   "source": [
    "LINES = 3\n",
    "COLUMNS = 4"
   ]
  },
  {
   "cell_type": "code",
   "execution_count": 7,
   "metadata": {
    "collapsed": false,
    "deletable": true,
    "editable": true
   },
   "outputs": [],
   "source": [
    "def foo(row=1, column=2):\n",
    "    buf = [\n",
    "        ['@' for _ in range(COLUMNS)]\n",
    "        for _ in range(LINES)\n",
    "    ]\n",
    "    blank(buf, row, column)\n",
    "    for row in buf:\n",
    "        print(''.join(row).replace(' ', '.'))"
   ]
  },
  {
   "cell_type": "code",
   "execution_count": 8,
   "metadata": {
    "collapsed": true,
    "deletable": true,
    "editable": true
   },
   "outputs": [],
   "source": [
    "def blank(buf, row, column):\n",
    "    for row in range(row, LINES):\n",
    "        for column in range(column, COLUMNS):\n",
    "            buf[row][column] = ' '\n",
    "        column = 0"
   ]
  },
  {
   "cell_type": "code",
   "execution_count": 9,
   "metadata": {
    "collapsed": false,
    "deletable": true,
    "editable": true
   },
   "outputs": [
    {
     "name": "stdout",
     "output_type": "stream",
     "text": [
      "@@@@\n",
      "@@..\n",
      "....\n"
     ]
    }
   ],
   "source": [
    "foo()"
   ]
  },
  {
   "cell_type": "code",
   "execution_count": 10,
   "metadata": {
    "collapsed": false,
    "deletable": true,
    "editable": true
   },
   "outputs": [],
   "source": [
    "def blank_to_end_of_row(buf, row, column):\n",
    "    for column in range(column, COLUMNS):\n",
    "        buf[row][column] = ' '\n",
    "\n",
    "def blank_row(buf, row):\n",
    "    blank_to_end_of_row(buf, row, 0)\n",
    "\n",
    "def blank(buf, row, column):\n",
    "    blank_to_end_of_row(buf, row, column)\n",
    "    row += 1\n",
    "\n",
    "    for row in range(row, LINES):\n",
    "        blank_row(buf, row)"
   ]
  },
  {
   "cell_type": "code",
   "execution_count": 11,
   "metadata": {
    "collapsed": false,
    "deletable": true,
    "editable": true
   },
   "outputs": [
    {
     "name": "stdout",
     "output_type": "stream",
     "text": [
      "@@@@\n",
      "@@..\n",
      "....\n"
     ]
    }
   ],
   "source": [
    "foo()"
   ]
  },
  {
   "cell_type": "code",
   "execution_count": 12,
   "metadata": {
    "collapsed": false,
    "deletable": true,
    "editable": true
   },
   "outputs": [],
   "source": [
    "def blank_to_end_of_row(buf, row, column):\n",
    "    for column in range(column, COLUMNS):\n",
    "        buf[row][column] = ' '\n",
    "\n",
    "def blank(buf, row, column):\n",
    "    blank_to_end_of_row(buf, row, column)\n",
    "    row += 1\n",
    "\n",
    "    for row in range(row, LINES):\n",
    "        blank_to_end_of_row(buf, row, 0)"
   ]
  },
  {
   "cell_type": "code",
   "execution_count": 13,
   "metadata": {
    "collapsed": false,
    "deletable": true,
    "editable": true
   },
   "outputs": [
    {
     "name": "stdout",
     "output_type": "stream",
     "text": [
      "@@@@\n",
      "@@..\n",
      "....\n"
     ]
    }
   ],
   "source": [
    "foo()"
   ]
  }
 ],
 "metadata": {
  "kernelspec": {
   "display_name": "Python 3",
   "language": "python",
   "name": "python3"
  },
  "language_info": {
   "codemirror_mode": {
    "name": "ipython",
    "version": 3
   },
   "file_extension": ".py",
   "mimetype": "text/x-python",
   "name": "python",
   "nbconvert_exporter": "python",
   "pygments_lexer": "ipython3",
   "version": "3.6.0"
  }
 },
 "nbformat": 4,
 "nbformat_minor": 2
}
