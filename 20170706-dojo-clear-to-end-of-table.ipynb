{
 "cells": [
  {
   "cell_type": "code",
   "execution_count": 1,
   "metadata": {
    "collapsed": true,
    "deletable": true,
    "editable": true
   },
   "outputs": [],
   "source": [
    "LINES = 3\n",
    "COLUMNS = 4"
   ]
  },
  {
   "cell_type": "code",
   "execution_count": 2,
   "metadata": {
    "collapsed": false,
    "deletable": true,
    "editable": true
   },
   "outputs": [],
   "source": [
    "def foo(row=1, column=2):\n",
    "    buf = [\n",
    "        ['@' for _ in range(COLUMNS)]\n",
    "        for _ in range(LINES)\n",
    "    ]\n",
    "    blank(buf, row, column)\n",
    "    for row in buf:\n",
    "        print(''.join(row).replace(' ', '.'))"
   ]
  },
  {
   "cell_type": "code",
   "execution_count": 3,
   "metadata": {
    "collapsed": true,
    "deletable": true,
    "editable": true
   },
   "outputs": [],
   "source": [
    "def blank(buf, row, column):\n",
    "    for row in range(row, LINES):\n",
    "        for column in range(column, COLUMNS):\n",
    "            buf[row][column] = ' '\n",
    "        column = 0"
   ]
  },
  {
   "cell_type": "code",
   "execution_count": 4,
   "metadata": {
    "collapsed": false,
    "deletable": true,
    "editable": true
   },
   "outputs": [
    {
     "name": "stdout",
     "output_type": "stream",
     "text": [
      "@@@@\n",
      "@@..\n",
      "....\n"
     ]
    }
   ],
   "source": [
    "foo()"
   ]
  },
  {
   "cell_type": "markdown",
   "metadata": {},
   "source": [
    "The above is what the output should look like."
   ]
  },
  {
   "cell_type": "code",
   "execution_count": 5,
   "metadata": {
    "collapsed": false,
    "deletable": true,
    "editable": true
   },
   "outputs": [],
   "source": [
    "def blank_to_end_of_row(buf, row, column):\n",
    "    for column in range(column, COLUMNS):\n",
    "        buf[row][column] = ' '\n",
    "\n",
    "def blank_row(buf, row):\n",
    "    blank_to_end_of_row(buf, row, 0)\n",
    "\n",
    "def blank(buf, row, column):\n",
    "    blank_to_end_of_row(buf, row, column)\n",
    "    row += 1\n",
    "\n",
    "    for row in range(row, LINES):\n",
    "        blank_row(buf, row)"
   ]
  },
  {
   "cell_type": "code",
   "execution_count": 6,
   "metadata": {
    "collapsed": false,
    "deletable": true,
    "editable": true
   },
   "outputs": [
    {
     "name": "stdout",
     "output_type": "stream",
     "text": [
      "@@@@\n",
      "@@..\n",
      "....\n"
     ]
    }
   ],
   "source": [
    "foo()"
   ]
  },
  {
   "cell_type": "code",
   "execution_count": 7,
   "metadata": {
    "collapsed": false,
    "deletable": true,
    "editable": true
   },
   "outputs": [],
   "source": [
    "def blank_to_end_of_row(buf, row, column):\n",
    "    for column in range(column, COLUMNS):\n",
    "        buf[row][column] = ' '\n",
    "\n",
    "def blank(buf, row, column):\n",
    "    blank_to_end_of_row(buf, row, column)\n",
    "    row += 1\n",
    "\n",
    "    for row in range(row, LINES):\n",
    "        blank_to_end_of_row(buf, row, 0)"
   ]
  },
  {
   "cell_type": "code",
   "execution_count": 8,
   "metadata": {
    "collapsed": false,
    "deletable": true,
    "editable": true
   },
   "outputs": [
    {
     "name": "stdout",
     "output_type": "stream",
     "text": [
      "@@@@\n",
      "@@..\n",
      "....\n"
     ]
    }
   ],
   "source": [
    "foo()"
   ]
  }
 ],
 "metadata": {
  "kernelspec": {
   "display_name": "Python 3",
   "language": "python",
   "name": "python3"
  },
  "language_info": {
   "codemirror_mode": {
    "name": "ipython",
    "version": 3
   },
   "file_extension": ".py",
   "mimetype": "text/x-python",
   "name": "python",
   "nbconvert_exporter": "python",
   "pygments_lexer": "ipython3",
   "version": "3.6.0"
  }
 },
 "nbformat": 4,
 "nbformat_minor": 2
}
