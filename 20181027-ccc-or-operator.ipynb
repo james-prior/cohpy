{
 "cells": [
  {
   "cell_type": "markdown",
   "metadata": {},
   "source": [
    "this or that: The [or](https://docs.python.org/3/reference/expressions.html#or) operator in Python\n",
    "=========================\n",
    "\n",
    "This presentation is inspired by\n",
    "[Neil Ludban's use](https://github.com/james-prior/tdd-demo/commit/389df2aa787bd124c2ffa5affa6daf42939a2fe4)\n",
    "of the \"[or](https://docs.python.org/3/reference/expressions.html#or)\" operator in \n",
    "[Test-Driven Development with Python](https://github.com/james-prior/tdd-demo/tree/20171211-fizzbuzz) at \n",
    "[December 2017 COhPy technical meeting](https://www.meetup.com/Central-Ohio-Python-Users-Group/events/245705538/).\n",
    "\n",
    "This presentation is available at [20181027-ccc-or-operator.ipynb](https://github.com/james-prior/cohpy/blob/master/20181027-ccc-or-operator.ipynb)."
   ]
  },
  {
   "cell_type": "markdown",
   "metadata": {},
   "source": [
    "[split diff view of code on github](https://github.com/james-prior/tdd-demo/commit/389df2aa787bd124c2ffa5affa6daf42939a2fe4?diff=split)\n",
    "\n",
    "[view of code on github](https://github.com/james-prior/tdd-demo/blob/389df2aa787bd124c2ffa5affa6daf42939a2fe4/fizzbuzz.py)"
   ]
  },
  {
   "cell_type": "code",
   "execution_count": null,
   "metadata": {},
   "outputs": [],
   "source": [
    "# meld is a great visual difference program\n",
    "# http://meldmerge.org/\n",
    "\n",
    "# the following command relies on the directory structure on my computer\n",
    "# tdd-demo comes from https://github.com/james-prior/tdd-demo/\n",
    "\n",
    "#!cd ~/projects/tdd-demo;git difftool -t meld -y 389df2a^ 389df2a\n",
    "!cd ~/20181027/tdd-demo/;git difftool -t meld -y 389df2a^ 389df2a"
   ]
  },
  {
   "cell_type": "markdown",
   "metadata": {},
   "source": [
    "Python's [or](https://docs.python.org/3/reference/expressions.html#or)\n",
    "operator has some similarities with C's || operator.\n",
    "\n",
    "* Both always evaluate the first operand.\n",
    "* Both guarantee that the second operand is _not_ evaluated \n",
    "if the first operand is true.\n",
    "\n",
    "C's || operator yields an integer: 0 (false) or 1 (true).\n",
    "\n",
    "Python \"or\" operator yields one of the operands.\n",
    "If the first operand is true, it is the result\n",
    "and the second operand is guaranteed to _not_ be evaluated.\n",
    "If the first operand if false,\n",
    "the second operand is evaluated and is the result.\n",
    "\n",
    "Note that Python returns one of the operands, not merely 0 or 1."
   ]
  },
  {
   "cell_type": "markdown",
   "metadata": {},
   "source": [
    "[Python's concept of truth](https://docs.python.org/3/library/stdtypes.html#truth-value-testing)\n",
    "\n",
    "...\n",
    "\n",
    "Here are most of the built-in objects considered false:\n",
    "\n",
    "- constants defined to be false: None and False.\n",
    "- zero of any numeric type: 0, 0.0, 0j, Decimal(0), Fraction(0, 1)\n",
    "- empty sequences and collections: '', (), [], {}, set(), range(0)\n",
    "\n",
    "..."
   ]
  },
  {
   "cell_type": "markdown",
   "metadata": {},
   "source": [
    "Objects that are not false are true.\n",
    "\n",
    "- constants defined to be true: True.\n",
    "- not zero of any numeric type: 1, -1, 0.01, 1j, Decimal(1), Fraction(-1, 1)\n",
    "- non-empty sequences and collections: 'hello', (0,), [0], {0: 0}, set([0]), range(1)"
   ]
  },
  {
   "cell_type": "markdown",
   "metadata": {},
   "source": [
    "For each of the following cells, predict the output.\n",
    "\n",
    "During the meeting, there was much disagreement in predictions,\n",
    "especially in the first four cells below.\n",
    "That led to real learning."
   ]
  },
  {
   "cell_type": "code",
   "execution_count": null,
   "metadata": {},
   "outputs": [],
   "source": [
    "False or False"
   ]
  },
  {
   "cell_type": "code",
   "execution_count": null,
   "metadata": {},
   "outputs": [],
   "source": [
    "0 or False"
   ]
  },
  {
   "cell_type": "code",
   "execution_count": null,
   "metadata": {},
   "outputs": [],
   "source": [
    "False or 0"
   ]
  },
  {
   "cell_type": "code",
   "execution_count": null,
   "metadata": {},
   "outputs": [],
   "source": [
    "0 or 0"
   ]
  },
  {
   "cell_type": "code",
   "execution_count": null,
   "metadata": {},
   "outputs": [],
   "source": [
    "False or True"
   ]
  },
  {
   "cell_type": "code",
   "execution_count": null,
   "metadata": {},
   "outputs": [],
   "source": [
    "True or False"
   ]
  },
  {
   "cell_type": "code",
   "execution_count": null,
   "metadata": {},
   "outputs": [],
   "source": [
    "True or True"
   ]
  },
  {
   "cell_type": "code",
   "execution_count": null,
   "metadata": {},
   "outputs": [],
   "source": [
    "True or 1"
   ]
  },
  {
   "cell_type": "code",
   "execution_count": null,
   "metadata": {},
   "outputs": [],
   "source": [
    "1 or True"
   ]
  },
  {
   "cell_type": "code",
   "execution_count": null,
   "metadata": {},
   "outputs": [],
   "source": [
    "1 or 1"
   ]
  },
  {
   "cell_type": "code",
   "execution_count": null,
   "metadata": {},
   "outputs": [],
   "source": [
    "1 > 2"
   ]
  },
  {
   "cell_type": "code",
   "execution_count": null,
   "metadata": {},
   "outputs": [],
   "source": [
    "3 < 4"
   ]
  },
  {
   "cell_type": "code",
   "execution_count": null,
   "metadata": {},
   "outputs": [],
   "source": [
    "# This kind of expression using the \"or\" operator is very typical,\n",
    "# comprising the vast majority of use.\n",
    "\n",
    "1 > 2 or 3 < 4"
   ]
  },
  {
   "cell_type": "code",
   "execution_count": null,
   "metadata": {},
   "outputs": [],
   "source": [
    "'this' or 'that'"
   ]
  },
  {
   "cell_type": "code",
   "execution_count": null,
   "metadata": {},
   "outputs": [],
   "source": [
    "'' or 'that'"
   ]
  },
  {
   "cell_type": "code",
   "execution_count": null,
   "metadata": {},
   "outputs": [],
   "source": [
    "'this' or ''"
   ]
  },
  {
   "cell_type": "code",
   "execution_count": null,
   "metadata": {},
   "outputs": [],
   "source": [
    "'' or ''"
   ]
  },
  {
   "cell_type": "code",
   "execution_count": null,
   "metadata": {},
   "outputs": [],
   "source": [
    "'' or None"
   ]
  },
  {
   "cell_type": "code",
   "execution_count": null,
   "metadata": {},
   "outputs": [],
   "source": [
    "False or 3.14"
   ]
  },
  {
   "cell_type": "code",
   "execution_count": null,
   "metadata": {},
   "outputs": [],
   "source": [
    "'False' or 3.14"
   ]
  },
  {
   "cell_type": "code",
   "execution_count": null,
   "metadata": {},
   "outputs": [],
   "source": [
    "bool('False' or 3.14)"
   ]
  },
  {
   "cell_type": "code",
   "execution_count": null,
   "metadata": {},
   "outputs": [],
   "source": [
    "[] or {}"
   ]
  },
  {
   "cell_type": "code",
   "execution_count": null,
   "metadata": {},
   "outputs": [],
   "source": [
    "'' or []"
   ]
  },
  {
   "cell_type": "code",
   "execution_count": null,
   "metadata": {},
   "outputs": [],
   "source": [
    "'' or {}"
   ]
  },
  {
   "cell_type": "code",
   "execution_count": null,
   "metadata": {},
   "outputs": [],
   "source": [
    "'' or (1, 3)"
   ]
  },
  {
   "cell_type": "code",
   "execution_count": null,
   "metadata": {},
   "outputs": [],
   "source": [
    "'' or 'False'"
   ]
  },
  {
   "cell_type": "code",
   "execution_count": null,
   "metadata": {},
   "outputs": [],
   "source": [
    "'' or 'True'"
   ]
  },
  {
   "cell_type": "code",
   "execution_count": null,
   "metadata": {},
   "outputs": [],
   "source": [
    "'' or True"
   ]
  },
  {
   "cell_type": "code",
   "execution_count": null,
   "metadata": {},
   "outputs": [],
   "source": [
    "'' or False"
   ]
  },
  {
   "cell_type": "markdown",
   "metadata": {},
   "source": [
    "[Python's concept of truthiness]()\n",
    "\n",
    "Numerical values are false if zero and true if not zero.\n",
    "None is false.\n",
    "Sequences and collections are false if empty, and true if not empty."
   ]
  },
  {
   "cell_type": "code",
   "execution_count": null,
   "metadata": {},
   "outputs": [],
   "source": [
    "values = (\n",
    "    None,\n",
    "    0,\n",
    "    0.0,\n",
    "    0j,\n",
    "    (),\n",
    "    [],\n",
    "    {},\n",
    "    set(),\n",
    "    False,\n",
    "    True,\n",
    "    True + True,\n",
    "    (True + True + True) / True,\n",
    "    1,\n",
    "    -1,\n",
    "    1.e-30,\n",
    "\n",
    "    '',\n",
    "    'False',\n",
    "    'True',\n",
    "    \n",
    "    [],\n",
    "    [None], # This fools many people.\n",
    "    [0],\n",
    "    [0.0],\n",
    "    [0j],\n",
    "    [1],\n",
    "    [1, 2],\n",
    "    [[]], # This fools many people.\n",
    "    [{}],\n",
    "    [()],\n",
    "    [],\n",
    "    \n",
    "    (),\n",
    "    (None,),\n",
    "    (0,),\n",
    "    (0.0,),\n",
    "    (0j,),\n",
    "    (1,),\n",
    "    (1, 2),\n",
    "    ([],),\n",
    "    ({},),\n",
    "    ((),),\n",
    "    (),\n",
    "    \n",
    "    {},\n",
    "    {None: None},\n",
    "    {False: None},\n",
    "    {'False': None},\n",
    "    \n",
    "    set(),\n",
    "    {None},\n",
    "    {0},\n",
    "    {0.0},\n",
    "    {0j},\n",
    "    {1},\n",
    "    {1, 2},\n",
    "    {()},\n",
    ")"
   ]
  },
  {
   "cell_type": "markdown",
   "metadata": {},
   "source": [
    "Slowly scroll through the output of the following cell,\n",
    "predicting the output of each value\n",
    "before scrolling to reveal the actual output."
   ]
  },
  {
   "cell_type": "code",
   "execution_count": null,
   "metadata": {},
   "outputs": [],
   "source": [
    "for value in values:\n",
    "    print(repr(value), type(value))\n",
    "    print(bool(value))\n",
    "    print()"
   ]
  },
  {
   "cell_type": "markdown",
   "metadata": {},
   "source": [
    "There was some confusion and disbelief\n",
    "that True and False are integers,\n",
    "so that was played with.\n",
    "\n",
    "Some folks also did not know about\n",
    "the distinction between the / and // operators in Python 3,\n",
    "so that was played with also."
   ]
  },
  {
   "cell_type": "code",
   "execution_count": null,
   "metadata": {},
   "outputs": [],
   "source": [
    "True + True"
   ]
  },
  {
   "cell_type": "code",
   "execution_count": null,
   "metadata": {},
   "outputs": [],
   "source": [
    "True / (True + True)"
   ]
  },
  {
   "cell_type": "code",
   "execution_count": null,
   "metadata": {},
   "outputs": [],
   "source": [
    "True // (True + True)"
   ]
  },
  {
   "cell_type": "markdown",
   "metadata": {},
   "source": [
    "Now we get to how the \"or\" operator was used in fizzbuzz()."
   ]
  },
  {
   "cell_type": "code",
   "execution_count": null,
   "metadata": {},
   "outputs": [],
   "source": [
    "'' or 1"
   ]
  },
  {
   "cell_type": "code",
   "execution_count": null,
   "metadata": {},
   "outputs": [],
   "source": [
    "'' or 2"
   ]
  },
  {
   "cell_type": "code",
   "execution_count": null,
   "metadata": {},
   "outputs": [],
   "source": [
    "'fizz' or 3"
   ]
  },
  {
   "cell_type": "code",
   "execution_count": null,
   "metadata": {},
   "outputs": [],
   "source": [
    "'buzz' or 5"
   ]
  },
  {
   "cell_type": "code",
   "execution_count": null,
   "metadata": {},
   "outputs": [],
   "source": [
    "'fizz' or 6"
   ]
  },
  {
   "cell_type": "code",
   "execution_count": null,
   "metadata": {},
   "outputs": [],
   "source": [
    "'fizzbuzz' or 15"
   ]
  },
  {
   "cell_type": "code",
   "execution_count": null,
   "metadata": {},
   "outputs": [],
   "source": [
    "'' or 16"
   ]
  },
  {
   "cell_type": "markdown",
   "metadata": {},
   "source": [
    "Now we get to a more serious discussion of when it is good to use\n",
    "the \"or\" operator\n",
    "where the operands are not merely\n",
    "the typical case of False or True.\n",
    "\n",
    "The short answer is:\n",
    "\n",
    "    Use the \"or\" operator when it makes the code more readable.\n",
    "    \n",
    "But that begs the question.\n",
    "\n",
    "    When does using the \"or\" operator make the code more readable?\n",
    "    \n",
    "This is a question I have been struggling with.\n",
    "\n",
    "Let's go back to the old code at hand.\n",
    "\n",
    "    if not output:\n",
    "        return str(n)\n",
    "    return output\n",
    "    \n",
    "It returns either output or str(n).\n",
    "When said that simply in English,\n",
    "Neil's refactoring is the most readable code.\n",
    "It says most simply and directly what we want.\n",
    "\n",
    "    return output or str(n)\n",
    "    \n",
    "The problem may be from the biases of experienced programmers like myself\n",
    "who expect the \"or\" operator to yield only a true or false value,\n",
    "like we expect from other languages\n",
    "such as but not limited to C.\n",
    "Inexperienced folks do not bring such baggage from other languages.\n",
    "\n",
    "For myself,\n",
    "I have decided to absorb and use the idiom like Neil showed us.\n",
    "It is part of learning Python."
   ]
  },
  {
   "cell_type": "markdown",
   "metadata": {},
   "source": [
    "---\n",
    "With a long string of \"or\"ed stuff,\n",
    "the result is the first true operand.\n",
    "If no operands are true, the result is the last operand."
   ]
  },
  {
   "cell_type": "code",
   "execution_count": null,
   "metadata": {},
   "outputs": [],
   "source": [
    "False or 0 or 0j or 0.0 or [] or {} or set() or None or ()"
   ]
  },
  {
   "cell_type": "code",
   "execution_count": null,
   "metadata": {},
   "outputs": [],
   "source": [
    "False or 0 or 0j or 0.0 or 'false' or [] or {} or set() or None or ()"
   ]
  },
  {
   "cell_type": "markdown",
   "metadata": {},
   "source": [
    "---\n",
    "Pete Carswell asked about doing the above long expressions with a lamdba,\n",
    "hence the following."
   ]
  },
  {
   "cell_type": "code",
   "execution_count": null,
   "metadata": {},
   "outputs": [],
   "source": [
    "from functools import reduce"
   ]
  },
  {
   "cell_type": "code",
   "execution_count": null,
   "metadata": {},
   "outputs": [],
   "source": [
    "a = (\n",
    "    False,\n",
    "    0,\n",
    "    0j,\n",
    "    0.0,\n",
    "    [],\n",
    "    {},\n",
    "    'look ma no hands',\n",
    "    set(),\n",
    "    None,\n",
    "    (),\n",
    ")"
   ]
  },
  {
   "cell_type": "code",
   "execution_count": null,
   "metadata": {},
   "outputs": [],
   "source": [
    "reduce(lambda x, y: x or y, a)"
   ]
  },
  {
   "cell_type": "markdown",
   "metadata": {},
   "source": [
    "Note that the reduce() evaluates all the elements of its second operand,\n",
    "whereas a big long multiple \"or\" expression\n",
    "is guaranteed to stop evaluating operands after the first true operand."
   ]
  },
  {
   "cell_type": "markdown",
   "metadata": {},
   "source": [
    "Then I thought the operator module should eliminate the need for the lamdba,\n",
    "so I explored the operator module."
   ]
  },
  {
   "cell_type": "code",
   "execution_count": null,
   "metadata": {},
   "outputs": [],
   "source": [
    "import operator\n",
    "\n",
    "[s for s in dir(operator) if 'or' in s]"
   ]
  },
  {
   "cell_type": "markdown",
   "metadata": {},
   "source": [
    "Unfortunately, I was not able to find an equivalent to the \"or\" operator."
   ]
  },
  {
   "cell_type": "markdown",
   "metadata": {},
   "source": [
    "---\n",
    "\n",
    "Zach brought up another use of the \"or\" operator\n",
    "for handling default arguments."
   ]
  },
  {
   "cell_type": "code",
   "execution_count": null,
   "metadata": {},
   "outputs": [],
   "source": [
    "def foo(p=None):\n",
    "    p = p or [1, 2, 3, 4]\n",
    "    return p"
   ]
  },
  {
   "cell_type": "markdown",
   "metadata": {},
   "source": [
    "It is too bad that there is not an or= operator.\n",
    "C does not have a ||= operator either."
   ]
  },
  {
   "cell_type": "code",
   "execution_count": null,
   "metadata": {},
   "outputs": [],
   "source": [
    "foo(5)"
   ]
  },
  {
   "cell_type": "code",
   "execution_count": null,
   "metadata": {},
   "outputs": [],
   "source": [
    "foo()"
   ]
  },
  {
   "cell_type": "markdown",
   "metadata": {},
   "source": [
    "Zach prefers his code above to code below,\n",
    "with the danger of its mutable default value."
   ]
  },
  {
   "cell_type": "code",
   "execution_count": null,
   "metadata": {},
   "outputs": [],
   "source": [
    "def foo(p=[1, 2, 3, 4]):\n",
    "    return p"
   ]
  },
  {
   "cell_type": "code",
   "execution_count": null,
   "metadata": {},
   "outputs": [],
   "source": [
    "foo(3)"
   ]
  },
  {
   "cell_type": "code",
   "execution_count": null,
   "metadata": {},
   "outputs": [],
   "source": [
    "foo()"
   ]
  },
  {
   "cell_type": "code",
   "execution_count": null,
   "metadata": {},
   "outputs": [],
   "source": [
    "a = foo()\n",
    "a[1] = 'hi mom'\n",
    "a"
   ]
  },
  {
   "cell_type": "markdown",
   "metadata": {},
   "source": [
    "The cell above changes the mutable default argument,\n",
    "as shown below."
   ]
  },
  {
   "cell_type": "code",
   "execution_count": null,
   "metadata": {},
   "outputs": [],
   "source": [
    "foo()"
   ]
  },
  {
   "cell_type": "markdown",
   "metadata": {},
   "source": [
    "Zach's version does not suffer from the mutable default argument problem."
   ]
  },
  {
   "cell_type": "code",
   "execution_count": null,
   "metadata": {},
   "outputs": [],
   "source": [
    "def foo(p=None):\n",
    "    p = p or [1, 2, 3, 4]\n",
    "    return p"
   ]
  },
  {
   "cell_type": "code",
   "execution_count": null,
   "metadata": {},
   "outputs": [],
   "source": [
    "b = foo()\n",
    "b"
   ]
  },
  {
   "cell_type": "code",
   "execution_count": null,
   "metadata": {},
   "outputs": [],
   "source": [
    "b[2] = 'this'\n",
    "b"
   ]
  },
  {
   "cell_type": "code",
   "execution_count": null,
   "metadata": {},
   "outputs": [],
   "source": [
    "foo()"
   ]
  },
  {
   "cell_type": "markdown",
   "metadata": {},
   "source": [
    "How can I screw up Zach's version?\n",
    "It is sensitive to false arguments."
   ]
  },
  {
   "cell_type": "code",
   "execution_count": null,
   "metadata": {},
   "outputs": [],
   "source": [
    "foo([1])"
   ]
  },
  {
   "cell_type": "code",
   "execution_count": null,
   "metadata": {},
   "outputs": [],
   "source": [
    "foo([])"
   ]
  },
  {
   "cell_type": "code",
   "execution_count": null,
   "metadata": {},
   "outputs": [],
   "source": [
    "foo(0)"
   ]
  },
  {
   "cell_type": "markdown",
   "metadata": {},
   "source": [
    "That can be fixed with a traditional \"is None\" test."
   ]
  },
  {
   "cell_type": "code",
   "execution_count": null,
   "metadata": {},
   "outputs": [],
   "source": [
    "def foo(p=None):\n",
    "    if p is None:\n",
    "        p = [1, 2, 3, 4]\n",
    "    return p"
   ]
  },
  {
   "cell_type": "code",
   "execution_count": null,
   "metadata": {},
   "outputs": [],
   "source": [
    "foo()"
   ]
  },
  {
   "cell_type": "code",
   "execution_count": null,
   "metadata": {},
   "outputs": [],
   "source": [
    "foo(None)"
   ]
  },
  {
   "cell_type": "code",
   "execution_count": null,
   "metadata": {},
   "outputs": [],
   "source": [
    "foo([1])"
   ]
  },
  {
   "cell_type": "code",
   "execution_count": null,
   "metadata": {},
   "outputs": [],
   "source": [
    "foo([])"
   ]
  },
  {
   "cell_type": "code",
   "execution_count": null,
   "metadata": {
    "scrolled": true
   },
   "outputs": [],
   "source": [
    "foo(0)"
   ]
  },
  {
   "cell_type": "markdown",
   "metadata": {},
   "source": [
    "---\n",
    "Maybe a better name for this presentation would be 'this' or 'that'.    "
   ]
  },
  {
   "cell_type": "code",
   "execution_count": null,
   "metadata": {},
   "outputs": [],
   "source": [
    "'this' or 'that'"
   ]
  },
  {
   "cell_type": "code",
   "execution_count": null,
   "metadata": {},
   "outputs": [],
   "source": [
    "'give me liberty' or 'give me death'"
   ]
  },
  {
   "cell_type": "markdown",
   "metadata": {},
   "source": [
    "---\n",
    "Zach reported that the \"or\" operator in Javascript works like Python."
   ]
  },
  {
   "cell_type": "markdown",
   "metadata": {},
   "source": [
    "---\n",
    "This presentation concentrated on the \"or\" operator.\n",
    "The \"[and](https://docs.python.org/3/reference/expressions.html#and)\"\n",
    "operator works like you (should) expect.\n",
    "Explore it on your own."
   ]
  },
  {
   "cell_type": "code",
   "execution_count": null,
   "metadata": {},
   "outputs": [],
   "source": [
    "False and 1"
   ]
  },
  {
   "cell_type": "code",
   "execution_count": null,
   "metadata": {},
   "outputs": [],
   "source": [
    "'False' and 1"
   ]
  },
  {
   "cell_type": "markdown",
   "metadata": {},
   "source": [
    "By the way, Python objects can define their own truthiness\n",
    "by defining the\n",
    "[\\__bool\\__()](https://docs.python.org/3/reference/datamodel.html#object.__bool__)\n",
    "or\n",
    "[\\__len\\__()](https://docs.python.org/3/reference/datamodel.html#object.__len__)\n",
    "methods."
   ]
  }
 ],
 "metadata": {
  "kernelspec": {
   "display_name": "Python 3",
   "language": "python",
   "name": "python3"
  },
  "language_info": {
   "codemirror_mode": {
    "name": "ipython",
    "version": 3
   },
   "file_extension": ".py",
   "mimetype": "text/x-python",
   "name": "python",
   "nbconvert_exporter": "python",
   "pygments_lexer": "ipython3",
   "version": "3.6.5"
  }
 },
 "nbformat": 4,
 "nbformat_minor": 2
}
