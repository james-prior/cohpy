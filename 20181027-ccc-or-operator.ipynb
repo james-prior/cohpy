{
 "cells": [
  {
   "cell_type": "markdown",
   "metadata": {},
   "source": [
    "this or that: The [or](https://docs.python.org/3/reference/expressions.html#or) operator in Python\n",
    "=========================\n",
    "\n",
    "This presentation is inspired by\n",
    "[Neil Ludban's use](https://github.com/james-prior/tdd-demo/commit/389df2aa787bd124c2ffa5affa6daf42939a2fe4)\n",
    "of the \"[or](https://docs.python.org/3/reference/expressions.html#or)\" operator in \n",
    "[Test-Driven Development with Python](https://github.com/james-prior/tdd-demo/tree/20171211-fizzbuzz) at \n",
    "[December 2017 COhPy technical meeting](https://www.meetup.com/Central-Ohio-Python-Users-Group/events/245705538/).\n",
    "\n",
    "This presentation is available at [20181027-ccc-or-operator.ipynb](https://github.com/james-prior/cohpy/blob/master/20181027-ccc-or-operator.ipynb)."
   ]
  },
  {
   "cell_type": "markdown",
   "metadata": {},
   "source": [
    "[split diff view of code on github](https://github.com/james-prior/tdd-demo/commit/389df2aa787bd124c2ffa5affa6daf42939a2fe4?diff=split)\n",
    "\n",
    "[view of code on github](https://github.com/james-prior/tdd-demo/blob/389df2aa787bd124c2ffa5affa6daf42939a2fe4/fizzbuzz.py)"
   ]
  },
  {
   "cell_type": "code",
   "execution_count": null,
   "metadata": {},
   "outputs": [],
   "source": [
    "# meld is a great visual difference program\n",
    "# http://meldmerge.org/\n",
    "\n",
    "# the following command relies on the directory structure on my computer\n",
    "# tdd-demo comes from https://github.com/james-prior/tdd-demo/\n",
    "\n",
    "#!cd ~/projects/tdd-demo;git difftool -t meld -y 389df2a^ 389df2a\n",
    "!cd ~/20181027/tdd-demo/;git difftool -t meld -y 389df2a^ 389df2a"
   ]
  },
  {
   "cell_type": "markdown",
   "metadata": {},
   "source": [
    "Python's [or](https://docs.python.org/3/reference/expressions.html#or)\n",
    "operator has some similarities with C's || operator.\n",
    "\n",
    "* Both always evaluate the first operand.\n",
    "* Both guarantee that the second operand is _not_ evaluated \n",
    "if the first operand is true.\n",
    "\n",
    "C's || operator yields an integer: 0 (false) or 1 (true).\n",
    "\n",
    "Python \"or\" operator yields one of the operands.\n",
    "If the first operand is true, it is the result\n",
    "and the second operand is guaranteed to _not_ be evaluated.\n",
    "If the first operand if false,\n",
    "the second operand is evaluated and is the result.\n",
    "\n",
    "Note that Python returns one of the operands, not merely 0 or 1."
   ]
  },
  {
   "cell_type": "markdown",
   "metadata": {},
   "source": [
    "[Python's concept of truth](https://docs.python.org/3/library/stdtypes.html#truth-value-testing)\n",
    "\n",
    "...\n",
    "\n",
    "Here are most of the built-in objects considered false:\n",
    "\n",
    "- constants defined to be false: None and False.\n",
    "- zero of any numeric type: 0, 0.0, 0j, Decimal(0), Fraction(0, 1)\n",
    "- empty sequences and collections: '', (), [], {}, set(), range(0)\n",
    "\n",
    "..."
   ]
  },
  {
   "cell_type": "markdown",
   "metadata": {},
   "source": [
    "Objects that are not false are true.\n",
    "\n",
    "- constants defined to be true: True.\n",
    "- not zero of any numeric type: 1, -1, 0.01, 1j, Decimal(1), Fraction(-1, 1)\n",
    "- non-empty sequences and collections: 'hello', (0,), [0], {0: 0}, set([0]), range(1)"
   ]
  },
  {
   "cell_type": "markdown",
   "metadata": {},
   "source": [
    "For each of the following cells, predict the output.\n",
    "\n",
    "During the meeting, there was much disagreement in predictions,\n",
    "especially in the first four cells below.\n",
    "That led to real learning."
   ]
  },
  {
   "cell_type": "code",
   "execution_count": 1,
   "metadata": {},
   "outputs": [
    {
     "data": {
      "text/plain": [
       "False"
      ]
     },
     "execution_count": 1,
     "metadata": {},
     "output_type": "execute_result"
    }
   ],
   "source": [
    "False or False"
   ]
  },
  {
   "cell_type": "code",
   "execution_count": 2,
   "metadata": {},
   "outputs": [
    {
     "data": {
      "text/plain": [
       "False"
      ]
     },
     "execution_count": 2,
     "metadata": {},
     "output_type": "execute_result"
    }
   ],
   "source": [
    "0 or False"
   ]
  },
  {
   "cell_type": "code",
   "execution_count": 4,
   "metadata": {},
   "outputs": [
    {
     "data": {
      "text/plain": [
       "0"
      ]
     },
     "execution_count": 4,
     "metadata": {},
     "output_type": "execute_result"
    }
   ],
   "source": [
    "False or 0"
   ]
  },
  {
   "cell_type": "code",
   "execution_count": 3,
   "metadata": {},
   "outputs": [
    {
     "data": {
      "text/plain": [
       "0"
      ]
     },
     "execution_count": 3,
     "metadata": {},
     "output_type": "execute_result"
    }
   ],
   "source": [
    "0 or 0"
   ]
  },
  {
   "cell_type": "code",
   "execution_count": 5,
   "metadata": {},
   "outputs": [
    {
     "data": {
      "text/plain": [
       "True"
      ]
     },
     "execution_count": 5,
     "metadata": {},
     "output_type": "execute_result"
    }
   ],
   "source": [
    "False or True"
   ]
  },
  {
   "cell_type": "code",
   "execution_count": 6,
   "metadata": {},
   "outputs": [
    {
     "data": {
      "text/plain": [
       "True"
      ]
     },
     "execution_count": 6,
     "metadata": {},
     "output_type": "execute_result"
    }
   ],
   "source": [
    "True or False"
   ]
  },
  {
   "cell_type": "code",
   "execution_count": 7,
   "metadata": {},
   "outputs": [
    {
     "data": {
      "text/plain": [
       "True"
      ]
     },
     "execution_count": 7,
     "metadata": {},
     "output_type": "execute_result"
    }
   ],
   "source": [
    "True or True"
   ]
  },
  {
   "cell_type": "code",
   "execution_count": 8,
   "metadata": {},
   "outputs": [
    {
     "data": {
      "text/plain": [
       "True"
      ]
     },
     "execution_count": 8,
     "metadata": {},
     "output_type": "execute_result"
    }
   ],
   "source": [
    "True or 1"
   ]
  },
  {
   "cell_type": "code",
   "execution_count": 9,
   "metadata": {},
   "outputs": [
    {
     "data": {
      "text/plain": [
       "1"
      ]
     },
     "execution_count": 9,
     "metadata": {},
     "output_type": "execute_result"
    }
   ],
   "source": [
    "1 or True"
   ]
  },
  {
   "cell_type": "code",
   "execution_count": 10,
   "metadata": {},
   "outputs": [
    {
     "data": {
      "text/plain": [
       "1"
      ]
     },
     "execution_count": 10,
     "metadata": {},
     "output_type": "execute_result"
    }
   ],
   "source": [
    "1 or 1"
   ]
  },
  {
   "cell_type": "code",
   "execution_count": 11,
   "metadata": {},
   "outputs": [
    {
     "data": {
      "text/plain": [
       "False"
      ]
     },
     "execution_count": 11,
     "metadata": {},
     "output_type": "execute_result"
    }
   ],
   "source": [
    "1 > 2"
   ]
  },
  {
   "cell_type": "code",
   "execution_count": 12,
   "metadata": {},
   "outputs": [
    {
     "data": {
      "text/plain": [
       "True"
      ]
     },
     "execution_count": 12,
     "metadata": {},
     "output_type": "execute_result"
    }
   ],
   "source": [
    "3 < 4"
   ]
  },
  {
   "cell_type": "code",
   "execution_count": 13,
   "metadata": {},
   "outputs": [
    {
     "data": {
      "text/plain": [
       "True"
      ]
     },
     "execution_count": 13,
     "metadata": {},
     "output_type": "execute_result"
    }
   ],
   "source": [
    "# This kind of expression using the \"or\" operator is very typical,\n",
    "# comprising the vast majority of use.\n",
    "\n",
    "1 > 2 or 3 < 4"
   ]
  },
  {
   "cell_type": "code",
   "execution_count": 14,
   "metadata": {},
   "outputs": [
    {
     "data": {
      "text/plain": [
       "'this'"
      ]
     },
     "execution_count": 14,
     "metadata": {},
     "output_type": "execute_result"
    }
   ],
   "source": [
    "'this' or 'that'"
   ]
  },
  {
   "cell_type": "code",
   "execution_count": 15,
   "metadata": {},
   "outputs": [
    {
     "data": {
      "text/plain": [
       "'that'"
      ]
     },
     "execution_count": 15,
     "metadata": {},
     "output_type": "execute_result"
    }
   ],
   "source": [
    "'' or 'that'"
   ]
  },
  {
   "cell_type": "code",
   "execution_count": 16,
   "metadata": {},
   "outputs": [
    {
     "data": {
      "text/plain": [
       "'this'"
      ]
     },
     "execution_count": 16,
     "metadata": {},
     "output_type": "execute_result"
    }
   ],
   "source": [
    "'this' or ''"
   ]
  },
  {
   "cell_type": "code",
   "execution_count": 17,
   "metadata": {},
   "outputs": [
    {
     "data": {
      "text/plain": [
       "''"
      ]
     },
     "execution_count": 17,
     "metadata": {},
     "output_type": "execute_result"
    }
   ],
   "source": [
    "'' or ''"
   ]
  },
  {
   "cell_type": "code",
   "execution_count": 18,
   "metadata": {},
   "outputs": [],
   "source": [
    "'' or None"
   ]
  },
  {
   "cell_type": "code",
   "execution_count": 19,
   "metadata": {},
   "outputs": [
    {
     "data": {
      "text/plain": [
       "3.14"
      ]
     },
     "execution_count": 19,
     "metadata": {},
     "output_type": "execute_result"
    }
   ],
   "source": [
    "False or 3.14"
   ]
  },
  {
   "cell_type": "code",
   "execution_count": 20,
   "metadata": {},
   "outputs": [
    {
     "data": {
      "text/plain": [
       "'False'"
      ]
     },
     "execution_count": 20,
     "metadata": {},
     "output_type": "execute_result"
    }
   ],
   "source": [
    "'False' or 3.14"
   ]
  },
  {
   "cell_type": "code",
   "execution_count": 21,
   "metadata": {},
   "outputs": [
    {
     "data": {
      "text/plain": [
       "True"
      ]
     },
     "execution_count": 21,
     "metadata": {},
     "output_type": "execute_result"
    }
   ],
   "source": [
    "bool('False' or 3.14)"
   ]
  },
  {
   "cell_type": "code",
   "execution_count": 22,
   "metadata": {},
   "outputs": [
    {
     "data": {
      "text/plain": [
       "{}"
      ]
     },
     "execution_count": 22,
     "metadata": {},
     "output_type": "execute_result"
    }
   ],
   "source": [
    "[] or {}"
   ]
  },
  {
   "cell_type": "code",
   "execution_count": 23,
   "metadata": {},
   "outputs": [
    {
     "data": {
      "text/plain": [
       "[]"
      ]
     },
     "execution_count": 23,
     "metadata": {},
     "output_type": "execute_result"
    }
   ],
   "source": [
    "'' or []"
   ]
  },
  {
   "cell_type": "code",
   "execution_count": 24,
   "metadata": {},
   "outputs": [
    {
     "data": {
      "text/plain": [
       "{}"
      ]
     },
     "execution_count": 24,
     "metadata": {},
     "output_type": "execute_result"
    }
   ],
   "source": [
    "'' or {}"
   ]
  },
  {
   "cell_type": "code",
   "execution_count": null,
   "metadata": {},
   "outputs": [],
   "source": [
    "'' or (1, 3)"
   ]
  },
  {
   "cell_type": "code",
   "execution_count": 25,
   "metadata": {},
   "outputs": [
    {
     "data": {
      "text/plain": [
       "'False'"
      ]
     },
     "execution_count": 25,
     "metadata": {},
     "output_type": "execute_result"
    }
   ],
   "source": [
    "'' or 'False'"
   ]
  },
  {
   "cell_type": "code",
   "execution_count": 26,
   "metadata": {},
   "outputs": [
    {
     "data": {
      "text/plain": [
       "'True'"
      ]
     },
     "execution_count": 26,
     "metadata": {},
     "output_type": "execute_result"
    }
   ],
   "source": [
    "'' or 'True'"
   ]
  },
  {
   "cell_type": "code",
   "execution_count": 27,
   "metadata": {},
   "outputs": [
    {
     "data": {
      "text/plain": [
       "True"
      ]
     },
     "execution_count": 27,
     "metadata": {},
     "output_type": "execute_result"
    }
   ],
   "source": [
    "'' or True"
   ]
  },
  {
   "cell_type": "code",
   "execution_count": 28,
   "metadata": {},
   "outputs": [
    {
     "data": {
      "text/plain": [
       "False"
      ]
     },
     "execution_count": 28,
     "metadata": {},
     "output_type": "execute_result"
    }
   ],
   "source": [
    "'' or False"
   ]
  },
  {
   "cell_type": "markdown",
   "metadata": {},
   "source": [
    "[Python's concept of truthiness]()\n",
    "\n",
    "Numerical values are false if zero and true if not zero.\n",
    "None is false.\n",
    "Sequences and collections are false if empty, and true if not empty."
   ]
  },
  {
   "cell_type": "code",
   "execution_count": 29,
   "metadata": {},
   "outputs": [
    {
     "data": {
      "text/plain": [
       "True"
      ]
     },
     "execution_count": 29,
     "metadata": {},
     "output_type": "execute_result"
    }
   ],
   "source": [
    "True "
   ]
  },
  {
   "cell_type": "code",
   "execution_count": 34,
   "metadata": {
    "scrolled": true
   },
   "outputs": [
    {
     "data": {
      "text/plain": [
       "(1, 0, 2, 0, 1, 1)"
      ]
     },
     "execution_count": 34,
     "metadata": {},
     "output_type": "execute_result"
    }
   ],
   "source": [
    "int(True), int(False), True + True, True - True, 0 + True, True + 0"
   ]
  },
  {
   "cell_type": "code",
   "execution_count": 35,
   "metadata": {},
   "outputs": [
    {
     "ename": "ZeroDivisionError",
     "evalue": "division by zero",
     "output_type": "error",
     "traceback": [
      "\u001b[0;31m---------------------------------------------------------------------------\u001b[0m",
      "\u001b[0;31mZeroDivisionError\u001b[0m                         Traceback (most recent call last)",
      "\u001b[0;32m<ipython-input-35-f8487d9d0863>\u001b[0m in \u001b[0;36m<module>\u001b[0;34m()\u001b[0m\n\u001b[0;32m----> 1\u001b[0;31m \u001b[0;32mTrue\u001b[0m \u001b[0;34m/\u001b[0m \u001b[0;32mFalse\u001b[0m\u001b[0;34m\u001b[0m\u001b[0m\n\u001b[0m",
      "\u001b[0;31mZeroDivisionError\u001b[0m: division by zero"
     ]
    }
   ],
   "source": [
    "True / False"
   ]
  },
  {
   "cell_type": "code",
   "execution_count": 38,
   "metadata": {},
   "outputs": [
    {
     "data": {
      "text/plain": [
       "0.5"
      ]
     },
     "execution_count": 38,
     "metadata": {},
     "output_type": "execute_result"
    }
   ],
   "source": [
    "True / (True + True)"
   ]
  },
  {
   "cell_type": "code",
   "execution_count": 39,
   "metadata": {},
   "outputs": [
    {
     "data": {
      "text/plain": [
       "0"
      ]
     },
     "execution_count": 39,
     "metadata": {},
     "output_type": "execute_result"
    }
   ],
   "source": [
    "True // (True + True)"
   ]
  },
  {
   "cell_type": "code",
   "execution_count": 40,
   "metadata": {},
   "outputs": [
    {
     "ename": "TypeError",
     "evalue": "unsupported operand type(s) for +: 'NoneType' and 'int'",
     "output_type": "error",
     "traceback": [
      "\u001b[0;31m---------------------------------------------------------------------------\u001b[0m",
      "\u001b[0;31mTypeError\u001b[0m                                 Traceback (most recent call last)",
      "\u001b[0;32m<ipython-input-40-84e5ed69a096>\u001b[0m in \u001b[0;36m<module>\u001b[0;34m()\u001b[0m\n\u001b[0;32m----> 1\u001b[0;31m \u001b[0;32mNone\u001b[0m \u001b[0;34m+\u001b[0m \u001b[0;36m0\u001b[0m\u001b[0;34m,\u001b[0m \u001b[0;36m0\u001b[0m \u001b[0;34m+\u001b[0m \u001b[0;32mNone\u001b[0m\u001b[0;34m\u001b[0m\u001b[0m\n\u001b[0m",
      "\u001b[0;31mTypeError\u001b[0m: unsupported operand type(s) for +: 'NoneType' and 'int'"
     ]
    }
   ],
   "source": [
    "None + 0, 0 + None"
   ]
  },
  {
   "cell_type": "code",
   "execution_count": 41,
   "metadata": {},
   "outputs": [
    {
     "data": {
      "text/plain": [
       "False"
      ]
     },
     "execution_count": 41,
     "metadata": {},
     "output_type": "execute_result"
    }
   ],
   "source": [
    "bool(None)"
   ]
  },
  {
   "cell_type": "code",
   "execution_count": 36,
   "metadata": {},
   "outputs": [],
   "source": [
    "values = (\n",
    "    None,\n",
    "    0,\n",
    "    0.0,\n",
    "    0j,\n",
    "    (),\n",
    "    [],\n",
    "    {},\n",
    "    set(),\n",
    "    False,\n",
    "    True,\n",
    "    True + True,\n",
    "    (True + True + True) / True,\n",
    "    1,\n",
    "    -1,\n",
    "    1.e-30,\n",
    "\n",
    "    '',\n",
    "    'False',\n",
    "    'True',\n",
    "    \n",
    "    [],\n",
    "    [None], # This fools many people.\n",
    "    [0],\n",
    "    [0.0],\n",
    "    [0j],\n",
    "    [1],\n",
    "    [1, 2],\n",
    "    [[]], # This fools many people.\n",
    "    [{}],\n",
    "    [()],\n",
    "    [],\n",
    "    \n",
    "    (),\n",
    "    (None,),\n",
    "    (0,),\n",
    "    (0.0,),\n",
    "    (0j,),\n",
    "    (1,),\n",
    "    (1, 2),\n",
    "    ([],),\n",
    "    ({},),\n",
    "    ((),),\n",
    "    (),\n",
    "    \n",
    "    {},\n",
    "    {None: None},\n",
    "    {False: None},\n",
    "    {'False': None},\n",
    "    \n",
    "    set(),\n",
    "    {None},\n",
    "    {0},\n",
    "    {0.0},\n",
    "    {0j},\n",
    "    {1},\n",
    "    {1, 2},\n",
    "    {()},\n",
    ")"
   ]
  },
  {
   "cell_type": "markdown",
   "metadata": {},
   "source": [
    "Slowly scroll through the output of the following cell,\n",
    "predicting the output of each value\n",
    "before scrolling to reveal the actual output."
   ]
  },
  {
   "cell_type": "code",
   "execution_count": 37,
   "metadata": {},
   "outputs": [
    {
     "name": "stdout",
     "output_type": "stream",
     "text": [
      "None <class 'NoneType'>\n",
      "False\n",
      "\n",
      "0 <class 'int'>\n",
      "False\n",
      "\n",
      "0.0 <class 'float'>\n",
      "False\n",
      "\n",
      "0j <class 'complex'>\n",
      "False\n",
      "\n",
      "() <class 'tuple'>\n",
      "False\n",
      "\n",
      "[] <class 'list'>\n",
      "False\n",
      "\n",
      "{} <class 'dict'>\n",
      "False\n",
      "\n",
      "set() <class 'set'>\n",
      "False\n",
      "\n",
      "False <class 'bool'>\n",
      "False\n",
      "\n",
      "True <class 'bool'>\n",
      "True\n",
      "\n",
      "2 <class 'int'>\n",
      "True\n",
      "\n",
      "3.0 <class 'float'>\n",
      "True\n",
      "\n",
      "1 <class 'int'>\n",
      "True\n",
      "\n",
      "-1 <class 'int'>\n",
      "True\n",
      "\n",
      "1e-30 <class 'float'>\n",
      "True\n",
      "\n",
      "'' <class 'str'>\n",
      "False\n",
      "\n",
      "'False' <class 'str'>\n",
      "True\n",
      "\n",
      "'True' <class 'str'>\n",
      "True\n",
      "\n",
      "[] <class 'list'>\n",
      "False\n",
      "\n",
      "[None] <class 'list'>\n",
      "True\n",
      "\n",
      "[0] <class 'list'>\n",
      "True\n",
      "\n",
      "[0.0] <class 'list'>\n",
      "True\n",
      "\n",
      "[0j] <class 'list'>\n",
      "True\n",
      "\n",
      "[1] <class 'list'>\n",
      "True\n",
      "\n",
      "[1, 2] <class 'list'>\n",
      "True\n",
      "\n",
      "[[]] <class 'list'>\n",
      "True\n",
      "\n",
      "[{}] <class 'list'>\n",
      "True\n",
      "\n",
      "[()] <class 'list'>\n",
      "True\n",
      "\n",
      "[] <class 'list'>\n",
      "False\n",
      "\n",
      "() <class 'tuple'>\n",
      "False\n",
      "\n",
      "(None,) <class 'tuple'>\n",
      "True\n",
      "\n",
      "(0,) <class 'tuple'>\n",
      "True\n",
      "\n",
      "(0.0,) <class 'tuple'>\n",
      "True\n",
      "\n",
      "(0j,) <class 'tuple'>\n",
      "True\n",
      "\n",
      "(1,) <class 'tuple'>\n",
      "True\n",
      "\n",
      "(1, 2) <class 'tuple'>\n",
      "True\n",
      "\n",
      "([],) <class 'tuple'>\n",
      "True\n",
      "\n",
      "({},) <class 'tuple'>\n",
      "True\n",
      "\n",
      "((),) <class 'tuple'>\n",
      "True\n",
      "\n",
      "() <class 'tuple'>\n",
      "False\n",
      "\n",
      "{} <class 'dict'>\n",
      "False\n",
      "\n",
      "{None: None} <class 'dict'>\n",
      "True\n",
      "\n",
      "{False: None} <class 'dict'>\n",
      "True\n",
      "\n",
      "{'False': None} <class 'dict'>\n",
      "True\n",
      "\n",
      "set() <class 'set'>\n",
      "False\n",
      "\n",
      "{None} <class 'set'>\n",
      "True\n",
      "\n",
      "{0} <class 'set'>\n",
      "True\n",
      "\n",
      "{0.0} <class 'set'>\n",
      "True\n",
      "\n",
      "{0j} <class 'set'>\n",
      "True\n",
      "\n",
      "{1} <class 'set'>\n",
      "True\n",
      "\n",
      "{1, 2} <class 'set'>\n",
      "True\n",
      "\n",
      "{()} <class 'set'>\n",
      "True\n",
      "\n"
     ]
    }
   ],
   "source": [
    "for value in values:\n",
    "    print(repr(value), type(value))\n",
    "    print(bool(value))\n",
    "    print()"
   ]
  },
  {
   "cell_type": "markdown",
   "metadata": {},
   "source": [
    "There was some confusion and disbelief\n",
    "that True and False are integers,\n",
    "so that was played with.\n",
    "\n",
    "Some folks also did not know about\n",
    "the distinction between the / and // operators in Python 3,\n",
    "so that was played with also."
   ]
  },
  {
   "cell_type": "code",
   "execution_count": 51,
   "metadata": {},
   "outputs": [
    {
     "data": {
      "text/plain": [
       "2"
      ]
     },
     "execution_count": 51,
     "metadata": {},
     "output_type": "execute_result"
    }
   ],
   "source": [
    "True + True"
   ]
  },
  {
   "cell_type": "code",
   "execution_count": 52,
   "metadata": {},
   "outputs": [
    {
     "data": {
      "text/plain": [
       "0.5"
      ]
     },
     "execution_count": 52,
     "metadata": {},
     "output_type": "execute_result"
    }
   ],
   "source": [
    "True / (True + True)"
   ]
  },
  {
   "cell_type": "code",
   "execution_count": 53,
   "metadata": {},
   "outputs": [
    {
     "data": {
      "text/plain": [
       "0"
      ]
     },
     "execution_count": 53,
     "metadata": {},
     "output_type": "execute_result"
    }
   ],
   "source": [
    "True // (True + True)"
   ]
  },
  {
   "cell_type": "markdown",
   "metadata": {},
   "source": [
    "Now we get to how the \"or\" operator was used in fizzbuzz()."
   ]
  },
  {
   "cell_type": "code",
   "execution_count": 42,
   "metadata": {},
   "outputs": [
    {
     "data": {
      "text/plain": [
       "1"
      ]
     },
     "execution_count": 42,
     "metadata": {},
     "output_type": "execute_result"
    }
   ],
   "source": [
    "'' or 1"
   ]
  },
  {
   "cell_type": "code",
   "execution_count": 43,
   "metadata": {},
   "outputs": [
    {
     "data": {
      "text/plain": [
       "2"
      ]
     },
     "execution_count": 43,
     "metadata": {},
     "output_type": "execute_result"
    }
   ],
   "source": [
    "'' or 2"
   ]
  },
  {
   "cell_type": "code",
   "execution_count": 44,
   "metadata": {},
   "outputs": [
    {
     "data": {
      "text/plain": [
       "'fizz'"
      ]
     },
     "execution_count": 44,
     "metadata": {},
     "output_type": "execute_result"
    }
   ],
   "source": [
    "'fizz' or 3"
   ]
  },
  {
   "cell_type": "code",
   "execution_count": 45,
   "metadata": {},
   "outputs": [
    {
     "data": {
      "text/plain": [
       "'buzz'"
      ]
     },
     "execution_count": 45,
     "metadata": {},
     "output_type": "execute_result"
    }
   ],
   "source": [
    "'buzz' or 5"
   ]
  },
  {
   "cell_type": "code",
   "execution_count": 46,
   "metadata": {},
   "outputs": [
    {
     "data": {
      "text/plain": [
       "'fizz'"
      ]
     },
     "execution_count": 46,
     "metadata": {},
     "output_type": "execute_result"
    }
   ],
   "source": [
    "'fizz' or 6"
   ]
  },
  {
   "cell_type": "code",
   "execution_count": 47,
   "metadata": {},
   "outputs": [
    {
     "data": {
      "text/plain": [
       "'fizzbuzz'"
      ]
     },
     "execution_count": 47,
     "metadata": {},
     "output_type": "execute_result"
    }
   ],
   "source": [
    "'fizzbuzz' or 15"
   ]
  },
  {
   "cell_type": "code",
   "execution_count": 48,
   "metadata": {},
   "outputs": [
    {
     "data": {
      "text/plain": [
       "16"
      ]
     },
     "execution_count": 48,
     "metadata": {},
     "output_type": "execute_result"
    }
   ],
   "source": [
    "'' or 16"
   ]
  },
  {
   "cell_type": "markdown",
   "metadata": {},
   "source": [
    "Now we get to a more serious discussion of when it is good to use\n",
    "the \"or\" operator\n",
    "where the operands are not merely\n",
    "the typical case of False or True.\n",
    "\n",
    "The short answer is:\n",
    "\n",
    "    Use the \"or\" operator when it makes the code more readable.\n",
    "    \n",
    "But that begs the question.\n",
    "\n",
    "    When does using the \"or\" operator make the code more readable?\n",
    "    \n",
    "This is a question I have been struggling with.\n",
    "\n",
    "Let's go back to the old code at hand.\n",
    "\n",
    "    if not output:\n",
    "        return str(n)\n",
    "    return output\n",
    "    \n",
    "It returns either output or str(n).\n",
    "When said that simply in English,\n",
    "Neil's refactoring is the most readable code.\n",
    "It says most simply and directly what we want.\n",
    "\n",
    "    return output or str(n)\n",
    "    \n",
    "The problem may be from the biases of experienced programmers like myself\n",
    "who expect the \"or\" operator to yield only a true or false value,\n",
    "like we expect from other languages\n",
    "such as but not limited to C.\n",
    "Inexperienced folks do not bring such baggage from other languages.\n",
    "\n",
    "For myself,\n",
    "I have decided to absorb and use the idiom like Neil showed us.\n",
    "It is part of learning Python."
   ]
  },
  {
   "cell_type": "markdown",
   "metadata": {},
   "source": [
    "---\n",
    "With a long string of \"or\"ed stuff,\n",
    "the result is the first true operand.\n",
    "If no operands are true, the result is the last operand."
   ]
  },
  {
   "cell_type": "code",
   "execution_count": 49,
   "metadata": {},
   "outputs": [
    {
     "data": {
      "text/plain": [
       "()"
      ]
     },
     "execution_count": 49,
     "metadata": {},
     "output_type": "execute_result"
    }
   ],
   "source": [
    "False or 0 or 0j or 0.0 or [] or {} or set() or None or ()"
   ]
  },
  {
   "cell_type": "code",
   "execution_count": 50,
   "metadata": {},
   "outputs": [
    {
     "data": {
      "text/plain": [
       "'false'"
      ]
     },
     "execution_count": 50,
     "metadata": {},
     "output_type": "execute_result"
    }
   ],
   "source": [
    "False or 0 or 0j or 0.0 or 'false' or [] or {} or set() or None or ()"
   ]
  },
  {
   "cell_type": "markdown",
   "metadata": {},
   "source": [
    "---\n",
    "Zach reported that the \"or\" operator in Javascript works like Python."
   ]
  },
  {
   "cell_type": "markdown",
   "metadata": {},
   "source": [
    "---\n",
    "This presentation concentrated on the \"or\" operator.\n",
    "The \"[and](https://docs.python.org/3/reference/expressions.html#and)\"\n",
    "operator works like you (should) expect.\n",
    "Explore it on your own."
   ]
  },
  {
   "cell_type": "code",
   "execution_count": null,
   "metadata": {},
   "outputs": [],
   "source": [
    "False and 1"
   ]
  },
  {
   "cell_type": "code",
   "execution_count": null,
   "metadata": {},
   "outputs": [],
   "source": [
    "'False' and 1"
   ]
  },
  {
   "cell_type": "markdown",
   "metadata": {},
   "source": [
    "By the way, Python objects can define their own truthiness\n",
    "by defining the\n",
    "[\\__bool\\__()](https://docs.python.org/3/reference/datamodel.html#object.__bool__)\n",
    "or\n",
    "[\\__len\\__()](https://docs.python.org/3/reference/datamodel.html#object.__len__)\n",
    "methods."
   ]
  },
  {
   "cell_type": "markdown",
   "metadata": {},
   "source": [
    "Joe Shaw: [The 'wat' lightning talk](https://www.destroyallsoftware.com/talks/wat) by Gary Bernhardt."
   ]
  },
  {
   "cell_type": "markdown",
   "metadata": {},
   "source": [
    "---\n",
    "2018-10-28 afterthoughts"
   ]
  },
  {
   "cell_type": "code",
   "execution_count": 64,
   "metadata": {},
   "outputs": [
    {
     "data": {
      "text/plain": [
       "True"
      ]
     },
     "execution_count": 64,
     "metadata": {},
     "output_type": "execute_result"
    }
   ],
   "source": [
    "bool(True)"
   ]
  },
  {
   "cell_type": "code",
   "execution_count": 65,
   "metadata": {},
   "outputs": [
    {
     "data": {
      "text/plain": [
       "True"
      ]
     },
     "execution_count": 65,
     "metadata": {},
     "output_type": "execute_result"
    }
   ],
   "source": [
    "bool(-True)"
   ]
  },
  {
   "cell_type": "code",
   "execution_count": 66,
   "metadata": {},
   "outputs": [
    {
     "data": {
      "text/plain": [
       "True"
      ]
     },
     "execution_count": 66,
     "metadata": {},
     "output_type": "execute_result"
    }
   ],
   "source": [
    "bool(True + 1j)"
   ]
  },
  {
   "cell_type": "code",
   "execution_count": 67,
   "metadata": {},
   "outputs": [
    {
     "data": {
      "text/plain": [
       "True"
      ]
     },
     "execution_count": 67,
     "metadata": {},
     "output_type": "execute_result"
    }
   ],
   "source": [
    "bool(True - 1j)"
   ]
  },
  {
   "cell_type": "code",
   "execution_count": 68,
   "metadata": {},
   "outputs": [
    {
     "data": {
      "text/plain": [
       "False"
      ]
     },
     "execution_count": 68,
     "metadata": {},
     "output_type": "execute_result"
    }
   ],
   "source": [
    "bool(True + 1j**2)"
   ]
  }
 ],
 "metadata": {
  "kernelspec": {
   "display_name": "Python 3",
   "language": "python",
   "name": "python3"
  },
  "language_info": {
   "codemirror_mode": {
    "name": "ipython",
    "version": 3
   },
   "file_extension": ".py",
   "mimetype": "text/x-python",
   "name": "python",
   "nbconvert_exporter": "python",
   "pygments_lexer": "ipython3",
   "version": "3.6.5"
  }
 },
 "nbformat": 4,
 "nbformat_minor": 2
}
