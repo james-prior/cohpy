{
 "cells": [
  {
   "cell_type": "markdown",
   "metadata": {
    "deletable": true,
    "editable": true
   },
   "source": [
    "Inspired by [Joe Knapp](mailto:jmknapp at gmail.com)'s \n",
    "[Collatz conjecture](https://en.wikipedia.org/wiki/Collatz_conjecture)\n",
    "[email](https://mail.python.org/pipermail/centraloh/2017-October/003198.html)."
   ]
  },
  {
   "cell_type": "code",
   "execution_count": 1,
   "metadata": {
    "collapsed": true,
    "deletable": true,
    "editable": true
   },
   "outputs": [],
   "source": [
    "def collatz_sequence(n):\n",
    "    while True:\n",
    "        yield n\n",
    "        if n % 2 == 0:\n",
    "            n //= 2\n",
    "        else:\n",
    "            n = 3 * n + 1"
   ]
  },
  {
   "cell_type": "code",
   "execution_count": 2,
   "metadata": {
    "collapsed": false,
    "deletable": true,
    "editable": true
   },
   "outputs": [
    {
     "name": "stdout",
     "output_type": "stream",
     "text": [
      "0 9\n",
      "1 28\n",
      "2 14\n",
      "3 7\n",
      "4 22\n",
      "5 11\n",
      "6 34\n",
      "7 17\n",
      "8 52\n",
      "9 26\n",
      "10 13\n",
      "11 40\n",
      "12 20\n",
      "13 10\n",
      "14 5\n",
      "15 16\n",
      "16 8\n",
      "17 4\n",
      "18 2\n",
      "19 1\n"
     ]
    }
   ],
   "source": [
    "for i, x in enumerate(collatz_sequence(9)):\n",
    "    print(i, x)\n",
    "    if x ==  1:\n",
    "        break"
   ]
  },
  {
   "cell_type": "code",
   "execution_count": 3,
   "metadata": {
    "collapsed": false,
    "deletable": true,
    "editable": true
   },
   "outputs": [],
   "source": [
    "def stopping_power(n):\n",
    "    for i, n in enumerate(collatz_sequence(n)):\n",
    "        if n == 1:\n",
    "            return i"
   ]
  },
  {
   "cell_type": "code",
   "execution_count": 4,
   "metadata": {
    "collapsed": false,
    "deletable": true,
    "editable": true
   },
   "outputs": [],
   "source": [
    "known_stopping_power = {\n",
    "    27: 111,\n",
    "    9: 19,\n",
    "    97: 118,\n",
    "    871: 178,\n",
    "    6171: 261,\n",
    "    77031: 350,\n",
    "}\n",
    "\n",
    "for n, s in known_stopping_power.items():\n",
    "    assert stopping_power(n) == s, f'{n}, {s}, {stopping_power(n)}'"
   ]
  }
 ],
 "metadata": {
  "kernelspec": {
   "display_name": "Python 3",
   "language": "python",
   "name": "python3"
  },
  "language_info": {
   "codemirror_mode": {
    "name": "ipython",
    "version": 3
   },
   "file_extension": ".py",
   "mimetype": "text/x-python",
   "name": "python",
   "nbconvert_exporter": "python",
   "pygments_lexer": "ipython3",
   "version": "3.6.0"
  }
 },
 "nbformat": 4,
 "nbformat_minor": 2
}
