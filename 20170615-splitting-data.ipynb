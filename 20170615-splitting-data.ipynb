{
 "cells": [
  {
   "cell_type": "markdown",
   "metadata": {
    "deletable": true,
    "editable": true
   },
   "source": [
    "Inspired by [R P Herrold's challenge](https://mail.python.org/pipermail/centraloh/2017-June/003124.html).\n",
    "\n",
    "Some ways of splitting data in Python follow."
   ]
  },
  {
   "cell_type": "code",
   "execution_count": 1,
   "metadata": {
    "collapsed": true,
    "deletable": true,
    "editable": true
   },
   "outputs": [],
   "source": [
    "MONTH_NDAYS = ''' \n",
    "    0:31\n",
    "    1:29\n",
    "    2:31\n",
    "    3:30\n",
    "    4:31\n",
    "    5:30\n",
    "    6:31\n",
    "    7:31\n",
    "    8:30\n",
    "    9:31\n",
    "    10:30\n",
    "    11:31\n",
    "'''.split()"
   ]
  },
  {
   "cell_type": "code",
   "execution_count": 2,
   "metadata": {
    "collapsed": false,
    "deletable": true,
    "editable": true
   },
   "outputs": [
    {
     "data": {
      "text/plain": [
       "['0:31',\n",
       " '1:29',\n",
       " '2:31',\n",
       " '3:30',\n",
       " '4:31',\n",
       " '5:30',\n",
       " '6:31',\n",
       " '7:31',\n",
       " '8:30',\n",
       " '9:31',\n",
       " '10:30',\n",
       " '11:31']"
      ]
     },
     "execution_count": 2,
     "metadata": {},
     "output_type": "execute_result"
    }
   ],
   "source": [
    "MONTH_NDAYS"
   ]
  },
  {
   "cell_type": "code",
   "execution_count": 3,
   "metadata": {
    "collapsed": false,
    "deletable": true,
    "editable": true
   },
   "outputs": [
    {
     "name": "stdout",
     "output_type": "stream",
     "text": [
      "0 has 31\n",
      "1 has 29\n",
      "2 has 31\n",
      "3 has 30\n",
      "4 has 31\n",
      "5 has 30\n",
      "6 has 31\n",
      "7 has 31\n",
      "8 has 30\n",
      "9 has 31\n",
      "10 has 30\n",
      "11 has 31\n"
     ]
    }
   ],
   "source": [
    "for month_n_days in MONTH_NDAYS:\n",
    "    month, n_days = map(int, month_n_days.split(':'))\n",
    "    print(f'{month} has {n_days}')"
   ]
  },
  {
   "cell_type": "markdown",
   "metadata": {
    "deletable": true,
    "editable": true
   },
   "source": [
    "Tuple unpacking is nice and in this case\n",
    "enables \n",
    "[DRY](https://en.wikipedia.org/wiki/Don't_repeat_yourself) \n",
    "(aka [Single Source of Truth](https://en.wikipedia.org/wiki/Single_source_of_truth)) \n",
    "code. Compare:\n",
    "\n",
    "    month, n_days = month_n_days.split(':')\n",
    "    \n",
    "with\n",
    "\n",
    "    FUTLHS=`echo \"$j\" | awk -F: {'print $1'}`\n",
    "    FUTRHS=`echo \"$j\" | awk -F: {'print $2'}`"
   ]
  },
  {
   "cell_type": "markdown",
   "metadata": {
    "deletable": true,
    "editable": true
   },
   "source": [
    "One can do all the chopping up front.\n",
    "The chopping code is less readable,\n",
    "but the subsequent for loop is just pretty."
   ]
  },
  {
   "cell_type": "code",
   "execution_count": 4,
   "metadata": {
    "collapsed": true,
    "deletable": true,
    "editable": true
   },
   "outputs": [],
   "source": [
    "MONTH_NDAYS = [list(map(int, s.split(':'))) for s in ''' \n",
    "    0:31\n",
    "    1:29\n",
    "    2:31\n",
    "    3:30\n",
    "    4:31\n",
    "    5:30\n",
    "    6:31\n",
    "    7:31\n",
    "    8:30\n",
    "    9:31\n",
    "    10:30\n",
    "    11:31\n",
    "'''.split()]"
   ]
  },
  {
   "cell_type": "code",
   "execution_count": 5,
   "metadata": {
    "collapsed": false,
    "deletable": true,
    "editable": true
   },
   "outputs": [
    {
     "data": {
      "text/plain": [
       "[[0, 31],\n",
       " [1, 29],\n",
       " [2, 31],\n",
       " [3, 30],\n",
       " [4, 31],\n",
       " [5, 30],\n",
       " [6, 31],\n",
       " [7, 31],\n",
       " [8, 30],\n",
       " [9, 31],\n",
       " [10, 30],\n",
       " [11, 31]]"
      ]
     },
     "execution_count": 5,
     "metadata": {},
     "output_type": "execute_result"
    }
   ],
   "source": [
    "MONTH_NDAYS"
   ]
  },
  {
   "cell_type": "code",
   "execution_count": 6,
   "metadata": {
    "collapsed": false,
    "deletable": true,
    "editable": true,
    "scrolled": true
   },
   "outputs": [
    {
     "name": "stdout",
     "output_type": "stream",
     "text": [
      "0 has 31\n",
      "1 has 29\n",
      "2 has 31\n",
      "3 has 30\n",
      "4 has 31\n",
      "5 has 30\n",
      "6 has 31\n",
      "7 has 31\n",
      "8 has 30\n",
      "9 has 31\n",
      "10 has 30\n",
      "11 has 31\n"
     ]
    }
   ],
   "source": [
    "for month, n_days in MONTH_NDAYS:\n",
    "    print(f'{month} has {n_days}')"
   ]
  },
  {
   "cell_type": "markdown",
   "metadata": {
    "deletable": true,
    "editable": true
   },
   "source": [
    "Unnesting the chopping code makes it easier to read.\n",
    "The for loop is still pretty."
   ]
  },
  {
   "cell_type": "code",
   "execution_count": 7,
   "metadata": {
    "collapsed": false,
    "deletable": true,
    "editable": true
   },
   "outputs": [
    {
     "data": {
      "text/plain": [
       "['0:31',\n",
       " '1:29',\n",
       " '2:31',\n",
       " '3:30',\n",
       " '4:31',\n",
       " '5:30',\n",
       " '6:31',\n",
       " '7:31',\n",
       " '8:30',\n",
       " '9:31',\n",
       " '10:30',\n",
       " '11:31']"
      ]
     },
     "execution_count": 7,
     "metadata": {},
     "output_type": "execute_result"
    }
   ],
   "source": [
    "MONTH_NDAYS = ''' \n",
    "    0:31\n",
    "    1:29\n",
    "    2:31\n",
    "    3:30\n",
    "    4:31\n",
    "    5:30\n",
    "    6:31\n",
    "    7:31\n",
    "    8:30\n",
    "    9:31\n",
    "    10:30\n",
    "    11:31\n",
    "'''.split()\n",
    "MONTH_NDAYS"
   ]
  },
  {
   "cell_type": "code",
   "execution_count": 8,
   "metadata": {
    "collapsed": false,
    "deletable": true,
    "editable": true
   },
   "outputs": [
    {
     "data": {
      "text/plain": [
       "[['0', '31'],\n",
       " ['1', '29'],\n",
       " ['2', '31'],\n",
       " ['3', '30'],\n",
       " ['4', '31'],\n",
       " ['5', '30'],\n",
       " ['6', '31'],\n",
       " ['7', '31'],\n",
       " ['8', '30'],\n",
       " ['9', '31'],\n",
       " ['10', '30'],\n",
       " ['11', '31']]"
      ]
     },
     "execution_count": 8,
     "metadata": {},
     "output_type": "execute_result"
    }
   ],
   "source": [
    "MONTH_NDAYS = [s.split(':') for s in MONTH_NDAYS]\n",
    "MONTH_NDAYS"
   ]
  },
  {
   "cell_type": "code",
   "execution_count": 9,
   "metadata": {
    "collapsed": false,
    "deletable": true,
    "editable": true
   },
   "outputs": [
    {
     "data": {
      "text/plain": [
       "[[0, 31],\n",
       " [1, 29],\n",
       " [2, 31],\n",
       " [3, 30],\n",
       " [4, 31],\n",
       " [5, 30],\n",
       " [6, 31],\n",
       " [7, 31],\n",
       " [8, 30],\n",
       " [9, 31],\n",
       " [10, 30],\n",
       " [11, 31]]"
      ]
     },
     "execution_count": 9,
     "metadata": {},
     "output_type": "execute_result"
    }
   ],
   "source": [
    "MONTH_NDAYS = [list(map(int, x)) for x in MONTH_NDAYS]\n",
    "MONTH_NDAYS"
   ]
  },
  {
   "cell_type": "code",
   "execution_count": 10,
   "metadata": {
    "collapsed": false,
    "deletable": true,
    "editable": true,
    "scrolled": true
   },
   "outputs": [
    {
     "name": "stdout",
     "output_type": "stream",
     "text": [
      "0 has 31\n",
      "1 has 29\n",
      "2 has 31\n",
      "3 has 30\n",
      "4 has 31\n",
      "5 has 30\n",
      "6 has 31\n",
      "7 has 31\n",
      "8 has 30\n",
      "9 has 31\n",
      "10 has 30\n",
      "11 has 31\n"
     ]
    }
   ],
   "source": [
    "for month, n_days in MONTH_NDAYS:\n",
    "    print(f'{month} has {n_days}')"
   ]
  }
 ],
 "metadata": {
  "kernelspec": {
   "display_name": "Python 3",
   "language": "python",
   "name": "python3"
  },
  "language_info": {
   "codemirror_mode": {
    "name": "ipython",
    "version": 3
   },
   "file_extension": ".py",
   "mimetype": "text/x-python",
   "name": "python",
   "nbconvert_exporter": "python",
   "pygments_lexer": "ipython3",
   "version": "3.6.0"
  }
 },
 "nbformat": 4,
 "nbformat_minor": 2
}
