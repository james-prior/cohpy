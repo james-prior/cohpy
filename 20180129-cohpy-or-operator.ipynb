{
 "cells": [
  {
   "cell_type": "markdown",
   "metadata": {
    "deletable": true,
    "editable": true
   },
   "source": [
    "\"[or](https://docs.python.org/3/reference/expressions.html#or)\" operator\n",
    "=======\n",
    "\n",
    "This presentation is inspired by\n",
    "[Neil Ludban's use](https://github.com/james-prior/tdd-demo/commit/389df2aa787bd124c2ffa5affa6daf42939a2fe4)\n",
    "of the \"[or](https://docs.python.org/3/reference/expressions.html#or)\" operator in \n",
    "[Test-Driven Development with Python](https://github.com/james-prior/tdd-demo/tree/20171211-fizzbuzz) at \n",
    "[last month's technical meeting](https://www.meetup.com/Central-Ohio-Python-Users-Group/events/245705538/)."
   ]
  },
  {
   "cell_type": "markdown",
   "metadata": {
    "deletable": true,
    "editable": true
   },
   "source": [
    "[split diff view of code on github](https://github.com/james-prior/tdd-demo/commit/389df2aa787bd124c2ffa5affa6daf42939a2fe4?diff=split)"
   ]
  },
  {
   "cell_type": "code",
   "execution_count": 1,
   "metadata": {
    "collapsed": false,
    "deletable": true,
    "editable": true
   },
   "outputs": [],
   "source": [
    "!cd ~/copied-from-main/python/cohpy/20171211/tdd-demo;git difftool -t meld -y 389df2a^ 389df2a"
   ]
  },
  {
   "cell_type": "markdown",
   "metadata": {
    "deletable": true,
    "editable": true
   },
   "source": [
    "Python's [or](https://docs.python.org/3/reference/expressions.html#or)\n",
    "operator has some similarities with C's || operator.\n",
    "Both guarantee that the second operand is not evaluated \n",
    "if the first operand is true.\n",
    "\n",
    "C's || operator yields an integer: 0 (false) or 1 (true).\n",
    "\n",
    "Python always evaluates the first operand.\n",
    "If the first operand is true, it is the result of the operator\n",
    "and the second operand is guaranteed to not be evaluated.\n",
    "If the first operand if false,\n",
    "the second operand is evaluated and is the resulf of the operator.\n",
    "\n",
    "Note that Python returns one of the operands, not merely 0 or 1."
   ]
  },
  {
   "cell_type": "markdown",
   "metadata": {
    "deletable": true,
    "editable": true
   },
   "source": [
    "[Python's concept of truth](https://docs.python.org/3/library/stdtypes.html#truth-value-testing)\n",
    "\n",
    "...\n",
    "\n",
    "Here are most of the built-in objects considered false:\n",
    "\n",
    "- constants defined to be false: None and False.\n",
    "- zero of any numeric type: 0, 0.0, 0j, Decimal(0), Fraction(0, 1)\n",
    "- empty sequences and collections: '', (), [], {}, set(), range(0)\n",
    "\n",
    "..."
   ]
  },
  {
   "cell_type": "markdown",
   "metadata": {
    "deletable": true,
    "editable": true
   },
   "source": [
    "Objects that are not false are true.\n",
    "\n",
    "- constants defined to be true: True.\n",
    "- not zero of any numeric type: 1, -1, 0.01, 1j, Decimal(1), Fraction(-1, 1)\n",
    "- non-empty sequences and collections: 'hello', (0,), [0], {0: 0}, set([0]), range(1)"
   ]
  },
  {
   "cell_type": "code",
   "execution_count": 2,
   "metadata": {
    "collapsed": false,
    "deletable": true,
    "editable": true
   },
   "outputs": [
    {
     "data": {
      "text/plain": [
       "False"
      ]
     },
     "execution_count": 2,
     "metadata": {},
     "output_type": "execute_result"
    }
   ],
   "source": [
    "False or False"
   ]
  },
  {
   "cell_type": "code",
   "execution_count": 3,
   "metadata": {
    "collapsed": false,
    "deletable": true,
    "editable": true
   },
   "outputs": [
    {
     "data": {
      "text/plain": [
       "False"
      ]
     },
     "execution_count": 3,
     "metadata": {},
     "output_type": "execute_result"
    }
   ],
   "source": [
    "0 or False"
   ]
  },
  {
   "cell_type": "code",
   "execution_count": 4,
   "metadata": {
    "collapsed": false,
    "deletable": true,
    "editable": true
   },
   "outputs": [
    {
     "data": {
      "text/plain": [
       "0"
      ]
     },
     "execution_count": 4,
     "metadata": {},
     "output_type": "execute_result"
    }
   ],
   "source": [
    "False or 0"
   ]
  },
  {
   "cell_type": "code",
   "execution_count": 5,
   "metadata": {
    "collapsed": false,
    "deletable": true,
    "editable": true
   },
   "outputs": [
    {
     "data": {
      "text/plain": [
       "0"
      ]
     },
     "execution_count": 5,
     "metadata": {},
     "output_type": "execute_result"
    }
   ],
   "source": [
    "0 or 0"
   ]
  },
  {
   "cell_type": "code",
   "execution_count": 6,
   "metadata": {
    "collapsed": false,
    "deletable": true,
    "editable": true
   },
   "outputs": [
    {
     "data": {
      "text/plain": [
       "True"
      ]
     },
     "execution_count": 6,
     "metadata": {},
     "output_type": "execute_result"
    }
   ],
   "source": [
    "False or True"
   ]
  },
  {
   "cell_type": "code",
   "execution_count": 7,
   "metadata": {
    "collapsed": false,
    "deletable": true,
    "editable": true
   },
   "outputs": [
    {
     "data": {
      "text/plain": [
       "True"
      ]
     },
     "execution_count": 7,
     "metadata": {},
     "output_type": "execute_result"
    }
   ],
   "source": [
    "True or False"
   ]
  },
  {
   "cell_type": "code",
   "execution_count": 8,
   "metadata": {
    "collapsed": false,
    "deletable": true,
    "editable": true
   },
   "outputs": [
    {
     "data": {
      "text/plain": [
       "True"
      ]
     },
     "execution_count": 8,
     "metadata": {},
     "output_type": "execute_result"
    }
   ],
   "source": [
    "True or True"
   ]
  },
  {
   "cell_type": "code",
   "execution_count": 9,
   "metadata": {
    "collapsed": false,
    "deletable": true,
    "editable": true
   },
   "outputs": [
    {
     "data": {
      "text/plain": [
       "True"
      ]
     },
     "execution_count": 9,
     "metadata": {},
     "output_type": "execute_result"
    }
   ],
   "source": [
    "True or 1"
   ]
  },
  {
   "cell_type": "code",
   "execution_count": 10,
   "metadata": {
    "collapsed": false,
    "deletable": true,
    "editable": true
   },
   "outputs": [
    {
     "data": {
      "text/plain": [
       "1"
      ]
     },
     "execution_count": 10,
     "metadata": {},
     "output_type": "execute_result"
    }
   ],
   "source": [
    "1 or True"
   ]
  },
  {
   "cell_type": "code",
   "execution_count": 11,
   "metadata": {
    "collapsed": false,
    "deletable": true,
    "editable": true
   },
   "outputs": [
    {
     "data": {
      "text/plain": [
       "1"
      ]
     },
     "execution_count": 11,
     "metadata": {},
     "output_type": "execute_result"
    }
   ],
   "source": [
    "1 or 1"
   ]
  },
  {
   "cell_type": "code",
   "execution_count": 12,
   "metadata": {
    "collapsed": false,
    "deletable": true,
    "editable": true
   },
   "outputs": [
    {
     "data": {
      "text/plain": [
       "False"
      ]
     },
     "execution_count": 12,
     "metadata": {},
     "output_type": "execute_result"
    }
   ],
   "source": [
    "1 > 2"
   ]
  },
  {
   "cell_type": "code",
   "execution_count": 13,
   "metadata": {
    "collapsed": false,
    "deletable": true,
    "editable": true
   },
   "outputs": [
    {
     "data": {
      "text/plain": [
       "True"
      ]
     },
     "execution_count": 13,
     "metadata": {},
     "output_type": "execute_result"
    }
   ],
   "source": [
    "3 < 4"
   ]
  },
  {
   "cell_type": "code",
   "execution_count": 14,
   "metadata": {
    "collapsed": false,
    "deletable": true,
    "editable": true
   },
   "outputs": [
    {
     "data": {
      "text/plain": [
       "True"
      ]
     },
     "execution_count": 14,
     "metadata": {},
     "output_type": "execute_result"
    }
   ],
   "source": [
    "1 > 2 or 3 < 4"
   ]
  },
  {
   "cell_type": "code",
   "execution_count": 15,
   "metadata": {
    "collapsed": false,
    "deletable": true,
    "editable": true
   },
   "outputs": [
    {
     "data": {
      "text/plain": [
       "'hello'"
      ]
     },
     "execution_count": 15,
     "metadata": {},
     "output_type": "execute_result"
    }
   ],
   "source": [
    "'hello' or 'world'"
   ]
  },
  {
   "cell_type": "code",
   "execution_count": 16,
   "metadata": {
    "collapsed": false,
    "deletable": true,
    "editable": true
   },
   "outputs": [
    {
     "data": {
      "text/plain": [
       "'world'"
      ]
     },
     "execution_count": 16,
     "metadata": {},
     "output_type": "execute_result"
    }
   ],
   "source": [
    "'' or 'world'"
   ]
  },
  {
   "cell_type": "code",
   "execution_count": 17,
   "metadata": {
    "collapsed": false,
    "deletable": true,
    "editable": true
   },
   "outputs": [
    {
     "data": {
      "text/plain": [
       "'hello'"
      ]
     },
     "execution_count": 17,
     "metadata": {},
     "output_type": "execute_result"
    }
   ],
   "source": [
    "'hello' or ''"
   ]
  },
  {
   "cell_type": "code",
   "execution_count": 18,
   "metadata": {
    "collapsed": false,
    "deletable": true,
    "editable": true
   },
   "outputs": [
    {
     "data": {
      "text/plain": [
       "''"
      ]
     },
     "execution_count": 18,
     "metadata": {},
     "output_type": "execute_result"
    }
   ],
   "source": [
    "'' or ''"
   ]
  },
  {
   "cell_type": "code",
   "execution_count": 19,
   "metadata": {
    "collapsed": false,
    "deletable": true,
    "editable": true
   },
   "outputs": [
    {
     "data": {
      "text/plain": [
       "3.14"
      ]
     },
     "execution_count": 19,
     "metadata": {},
     "output_type": "execute_result"
    }
   ],
   "source": [
    "False or 3.14"
   ]
  },
  {
   "cell_type": "code",
   "execution_count": 20,
   "metadata": {
    "collapsed": false,
    "deletable": true,
    "editable": true
   },
   "outputs": [
    {
     "data": {
      "text/plain": [
       "'False'"
      ]
     },
     "execution_count": 20,
     "metadata": {},
     "output_type": "execute_result"
    }
   ],
   "source": [
    "'False' or 3.14"
   ]
  },
  {
   "cell_type": "code",
   "execution_count": 21,
   "metadata": {
    "collapsed": false,
    "deletable": true,
    "editable": true
   },
   "outputs": [
    {
     "data": {
      "text/plain": [
       "True"
      ]
     },
     "execution_count": 21,
     "metadata": {},
     "output_type": "execute_result"
    }
   ],
   "source": [
    "bool('False' or 3.14)"
   ]
  },
  {
   "cell_type": "code",
   "execution_count": 22,
   "metadata": {
    "collapsed": false,
    "deletable": true,
    "editable": true
   },
   "outputs": [
    {
     "data": {
      "text/plain": [
       "{}"
      ]
     },
     "execution_count": 22,
     "metadata": {},
     "output_type": "execute_result"
    }
   ],
   "source": [
    "[] or {}"
   ]
  },
  {
   "cell_type": "code",
   "execution_count": 23,
   "metadata": {
    "collapsed": false,
    "deletable": true,
    "editable": true
   },
   "outputs": [
    {
     "data": {
      "text/plain": [
       "[]"
      ]
     },
     "execution_count": 23,
     "metadata": {},
     "output_type": "execute_result"
    }
   ],
   "source": [
    "'' or []"
   ]
  },
  {
   "cell_type": "code",
   "execution_count": 24,
   "metadata": {
    "collapsed": false,
    "deletable": true,
    "editable": true
   },
   "outputs": [
    {
     "data": {
      "text/plain": [
       "{}"
      ]
     },
     "execution_count": 24,
     "metadata": {},
     "output_type": "execute_result"
    }
   ],
   "source": [
    "'' or {}"
   ]
  },
  {
   "cell_type": "code",
   "execution_count": 25,
   "metadata": {
    "collapsed": false,
    "deletable": true,
    "editable": true
   },
   "outputs": [
    {
     "data": {
      "text/plain": [
       "(1, 3)"
      ]
     },
     "execution_count": 25,
     "metadata": {},
     "output_type": "execute_result"
    }
   ],
   "source": [
    "'' or (1, 3)"
   ]
  },
  {
   "cell_type": "code",
   "execution_count": 26,
   "metadata": {
    "collapsed": false,
    "deletable": true,
    "editable": true
   },
   "outputs": [
    {
     "data": {
      "text/plain": [
       "'False'"
      ]
     },
     "execution_count": 26,
     "metadata": {},
     "output_type": "execute_result"
    }
   ],
   "source": [
    "'' or 'False'"
   ]
  },
  {
   "cell_type": "code",
   "execution_count": 27,
   "metadata": {
    "collapsed": false,
    "deletable": true,
    "editable": true
   },
   "outputs": [
    {
     "data": {
      "text/plain": [
       "'True'"
      ]
     },
     "execution_count": 27,
     "metadata": {},
     "output_type": "execute_result"
    }
   ],
   "source": [
    "'' or 'True'"
   ]
  },
  {
   "cell_type": "code",
   "execution_count": 28,
   "metadata": {
    "collapsed": false,
    "deletable": true,
    "editable": true
   },
   "outputs": [
    {
     "data": {
      "text/plain": [
       "True"
      ]
     },
     "execution_count": 28,
     "metadata": {},
     "output_type": "execute_result"
    }
   ],
   "source": [
    "'' or True"
   ]
  },
  {
   "cell_type": "code",
   "execution_count": 29,
   "metadata": {
    "collapsed": false,
    "deletable": true,
    "editable": true
   },
   "outputs": [
    {
     "data": {
      "text/plain": [
       "False"
      ]
     },
     "execution_count": 29,
     "metadata": {},
     "output_type": "execute_result"
    }
   ],
   "source": [
    "'' or False"
   ]
  },
  {
   "cell_type": "markdown",
   "metadata": {
    "deletable": true,
    "editable": true
   },
   "source": [
    "[Python's concept of truthiness]()\n",
    "\n",
    "Numerical values are false if zero and true if not zero.\n",
    "None is false.\n",
    "Sequences and collections are false if empty, and true if not empty."
   ]
  },
  {
   "cell_type": "code",
   "execution_count": 30,
   "metadata": {
    "collapsed": false,
    "deletable": true,
    "editable": true
   },
   "outputs": [],
   "source": [
    "values = (\n",
    "    None,\n",
    "    0,\n",
    "    0.0,\n",
    "    0j,\n",
    "    (),\n",
    "    [],\n",
    "    {},\n",
    "    set(),\n",
    "    False,\n",
    "    True,\n",
    "    True + True,\n",
    "    (True + True + True) / True,\n",
    "    1,\n",
    "    -1,\n",
    "    1.e-30,\n",
    "    '',\n",
    "    'False',\n",
    "    'True',\n",
    "    [],\n",
    "    [None],\n",
    "    [0],\n",
    "    [0.0],\n",
    "    [0j],\n",
    "    [1],\n",
    "    [1, 2],\n",
    "    [[]],\n",
    "    [{}],\n",
    "    [()],\n",
    "    [],\n",
    "    [None],\n",
    "    [0],\n",
    "    [0.0],\n",
    "    [0j],\n",
    "    [1],\n",
    "    [1, 2],\n",
    "    [[]],\n",
    "    [{}],\n",
    "    [()],\n",
    "    \n",
    "    {},\n",
    "    {None},\n",
    "    {0},\n",
    "    {0.0},\n",
    "    {0j},\n",
    "    {1},\n",
    "    {1, 2},\n",
    "    {()},\n",
    "    \n",
    "    set(),\n",
    "    set((None,)),\n",
    "    set((0,)),\n",
    "    set((0.0,)),\n",
    "    set((0j,)),\n",
    "    set((1,)),\n",
    "    set((1, 2)),\n",
    "    set(((),)),\n",
    "\n",
    ")"
   ]
  },
  {
   "cell_type": "code",
   "execution_count": 31,
   "metadata": {
    "collapsed": false,
    "deletable": true,
    "editable": true
   },
   "outputs": [
    {
     "name": "stdout",
     "output_type": "stream",
     "text": [
      "None <class 'NoneType'>\n",
      "False\n",
      "\n",
      "0 <class 'int'>\n",
      "False\n",
      "\n",
      "0.0 <class 'float'>\n",
      "False\n",
      "\n",
      "0j <class 'complex'>\n",
      "False\n",
      "\n",
      "() <class 'tuple'>\n",
      "False\n",
      "\n",
      "[] <class 'list'>\n",
      "False\n",
      "\n",
      "{} <class 'dict'>\n",
      "False\n",
      "\n",
      "set() <class 'set'>\n",
      "False\n",
      "\n",
      "False <class 'bool'>\n",
      "False\n",
      "\n",
      "True <class 'bool'>\n",
      "True\n",
      "\n",
      "2 <class 'int'>\n",
      "True\n",
      "\n",
      "3.0 <class 'float'>\n",
      "True\n",
      "\n",
      "1 <class 'int'>\n",
      "True\n",
      "\n",
      "-1 <class 'int'>\n",
      "True\n",
      "\n",
      "1e-30 <class 'float'>\n",
      "True\n",
      "\n",
      "'' <class 'str'>\n",
      "False\n",
      "\n",
      "'False' <class 'str'>\n",
      "True\n",
      "\n",
      "'True' <class 'str'>\n",
      "True\n",
      "\n",
      "[] <class 'list'>\n",
      "False\n",
      "\n",
      "[None] <class 'list'>\n",
      "True\n",
      "\n",
      "[0] <class 'list'>\n",
      "True\n",
      "\n",
      "[0.0] <class 'list'>\n",
      "True\n",
      "\n",
      "[0j] <class 'list'>\n",
      "True\n",
      "\n",
      "[1] <class 'list'>\n",
      "True\n",
      "\n",
      "[1, 2] <class 'list'>\n",
      "True\n",
      "\n",
      "[[]] <class 'list'>\n",
      "True\n",
      "\n",
      "[{}] <class 'list'>\n",
      "True\n",
      "\n",
      "[()] <class 'list'>\n",
      "True\n",
      "\n",
      "[] <class 'list'>\n",
      "False\n",
      "\n",
      "[None] <class 'list'>\n",
      "True\n",
      "\n",
      "[0] <class 'list'>\n",
      "True\n",
      "\n",
      "[0.0] <class 'list'>\n",
      "True\n",
      "\n",
      "[0j] <class 'list'>\n",
      "True\n",
      "\n",
      "[1] <class 'list'>\n",
      "True\n",
      "\n",
      "[1, 2] <class 'list'>\n",
      "True\n",
      "\n",
      "[[]] <class 'list'>\n",
      "True\n",
      "\n",
      "[{}] <class 'list'>\n",
      "True\n",
      "\n",
      "[()] <class 'list'>\n",
      "True\n",
      "\n",
      "{} <class 'dict'>\n",
      "False\n",
      "\n",
      "{None} <class 'set'>\n",
      "True\n",
      "\n",
      "{0} <class 'set'>\n",
      "True\n",
      "\n",
      "{0.0} <class 'set'>\n",
      "True\n",
      "\n",
      "{0j} <class 'set'>\n",
      "True\n",
      "\n",
      "{1} <class 'set'>\n",
      "True\n",
      "\n",
      "{1, 2} <class 'set'>\n",
      "True\n",
      "\n",
      "{()} <class 'set'>\n",
      "True\n",
      "\n",
      "set() <class 'set'>\n",
      "False\n",
      "\n",
      "{None} <class 'set'>\n",
      "True\n",
      "\n",
      "{0} <class 'set'>\n",
      "True\n",
      "\n",
      "{0.0} <class 'set'>\n",
      "True\n",
      "\n",
      "{0j} <class 'set'>\n",
      "True\n",
      "\n",
      "{1} <class 'set'>\n",
      "True\n",
      "\n",
      "{1, 2} <class 'set'>\n",
      "True\n",
      "\n",
      "{()} <class 'set'>\n",
      "True\n",
      "\n"
     ]
    }
   ],
   "source": [
    "for value in values:\n",
    "    print(repr(value), type(value))\n",
    "    print(bool(value))\n",
    "    print()"
   ]
  },
  {
   "cell_type": "code",
   "execution_count": 32,
   "metadata": {
    "collapsed": false,
    "deletable": true,
    "editable": true
   },
   "outputs": [
    {
     "data": {
      "text/plain": [
       "'fizz'"
      ]
     },
     "execution_count": 32,
     "metadata": {},
     "output_type": "execute_result"
    }
   ],
   "source": [
    "'fizz' or 3"
   ]
  },
  {
   "cell_type": "code",
   "execution_count": 33,
   "metadata": {
    "collapsed": false,
    "deletable": true,
    "editable": true
   },
   "outputs": [
    {
     "data": {
      "text/plain": [
       "1"
      ]
     },
     "execution_count": 33,
     "metadata": {},
     "output_type": "execute_result"
    }
   ],
   "source": [
    "'' or 1"
   ]
  },
  {
   "cell_type": "code",
   "execution_count": 34,
   "metadata": {
    "collapsed": false,
    "deletable": true,
    "editable": true
   },
   "outputs": [
    {
     "data": {
      "text/plain": [
       "2"
      ]
     },
     "execution_count": 34,
     "metadata": {},
     "output_type": "execute_result"
    }
   ],
   "source": [
    "'' or 2"
   ]
  },
  {
   "cell_type": "code",
   "execution_count": 35,
   "metadata": {
    "collapsed": false,
    "deletable": true,
    "editable": true
   },
   "outputs": [
    {
     "data": {
      "text/plain": [
       "'fizz'"
      ]
     },
     "execution_count": 35,
     "metadata": {},
     "output_type": "execute_result"
    }
   ],
   "source": [
    "'fizz' or 3"
   ]
  },
  {
   "cell_type": "code",
   "execution_count": 36,
   "metadata": {
    "collapsed": false,
    "deletable": true,
    "editable": true
   },
   "outputs": [
    {
     "data": {
      "text/plain": [
       "'buzz'"
      ]
     },
     "execution_count": 36,
     "metadata": {},
     "output_type": "execute_result"
    }
   ],
   "source": [
    "'buzz' or 5"
   ]
  },
  {
   "cell_type": "code",
   "execution_count": 37,
   "metadata": {
    "collapsed": false,
    "deletable": true,
    "editable": true
   },
   "outputs": [
    {
     "data": {
      "text/plain": [
       "'fizz'"
      ]
     },
     "execution_count": 37,
     "metadata": {},
     "output_type": "execute_result"
    }
   ],
   "source": [
    "'fizz' or 6"
   ]
  },
  {
   "cell_type": "code",
   "execution_count": 38,
   "metadata": {
    "collapsed": false,
    "deletable": true,
    "editable": true
   },
   "outputs": [
    {
     "data": {
      "text/plain": [
       "'fizzbuzz'"
      ]
     },
     "execution_count": 38,
     "metadata": {},
     "output_type": "execute_result"
    }
   ],
   "source": [
    "'fizzbuzz' or 15"
   ]
  },
  {
   "cell_type": "code",
   "execution_count": 39,
   "metadata": {
    "collapsed": false,
    "deletable": true,
    "editable": true
   },
   "outputs": [
    {
     "data": {
      "text/plain": [
       "16"
      ]
     },
     "execution_count": 39,
     "metadata": {},
     "output_type": "execute_result"
    }
   ],
   "source": [
    "'' or 16"
   ]
  },
  {
   "cell_type": "code",
   "execution_count": 40,
   "metadata": {
    "collapsed": false,
    "deletable": true,
    "editable": true
   },
   "outputs": [
    {
     "data": {
      "text/plain": [
       "()"
      ]
     },
     "execution_count": 40,
     "metadata": {},
     "output_type": "execute_result"
    }
   ],
   "source": [
    "False or 0 or 0j or 0.0 or [] or {} or set() or None or ()"
   ]
  },
  {
   "cell_type": "code",
   "execution_count": 41,
   "metadata": {
    "collapsed": false,
    "deletable": true,
    "editable": true
   },
   "outputs": [
    {
     "data": {
      "text/plain": [
       "'false'"
      ]
     },
     "execution_count": 41,
     "metadata": {},
     "output_type": "execute_result"
    }
   ],
   "source": [
    "False or 0 or 0j or 0.0 or 'false' or [] or {} or set() or None or ()"
   ]
  },
  {
   "cell_type": "markdown",
   "metadata": {},
   "source": [
    "When is it good to use Python's \"or\" operator for more than merely truth results?"
   ]
  }
 ],
 "metadata": {
  "kernelspec": {
   "display_name": "Python 3",
   "language": "python",
   "name": "python3"
  },
  "language_info": {
   "codemirror_mode": {
    "name": "ipython",
    "version": 3
   },
   "file_extension": ".py",
   "mimetype": "text/x-python",
   "name": "python",
   "nbconvert_exporter": "python",
   "pygments_lexer": "ipython3",
   "version": "3.6.0"
  }
 },
 "nbformat": 4,
 "nbformat_minor": 2
}
