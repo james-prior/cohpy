{
 "cells": [
  {
   "cell_type": "code",
   "execution_count": 1,
   "metadata": {
    "collapsed": false
   },
   "outputs": [
    {
     "name": "stdout",
     "output_type": "stream",
     "text": [
      "0 0\n",
      "1 0\n",
      "2 0\n",
      "3 1\n",
      "4 1\n",
      "5 1\n",
      "6 2\n",
      "7 2\n",
      "8 2\n",
      "9 3\n",
      "10 3\n",
      "11 3\n",
      "12 4\n",
      "13 4\n",
      "14 4\n",
      "15 5\n",
      "16 5\n",
      "17 5\n",
      "18 6\n",
      "19 6\n"
     ]
    }
   ],
   "source": [
    "for i in range(20):\n",
    "    print(i, i // 3)"
   ]
  },
  {
   "cell_type": "code",
   "execution_count": 2,
   "metadata": {
    "collapsed": false,
    "deletable": true,
    "editable": true
   },
   "outputs": [
    {
     "name": "stdout",
     "output_type": "stream",
     "text": [
      "0 0 0\n",
      "1 0 1\n",
      "2 0 2\n",
      "3 1 0\n",
      "4 1 1\n",
      "5 1 2\n",
      "6 2 0\n",
      "7 2 1\n",
      "8 2 2\n",
      "9 3 0\n",
      "10 3 1\n",
      "11 3 2\n",
      "12 4 0\n",
      "13 4 1\n",
      "14 4 2\n",
      "15 5 0\n",
      "16 5 1\n",
      "17 5 2\n",
      "18 6 0\n",
      "19 6 1\n"
     ]
    }
   ],
   "source": [
    "for i in range(20):\n",
    "    print(i, i // 3, i % 3)"
   ]
  },
  {
   "cell_type": "code",
   "execution_count": 3,
   "metadata": {
    "collapsed": false,
    "deletable": true,
    "editable": true
   },
   "outputs": [
    {
     "name": "stdout",
     "output_type": "stream",
     "text": [
      "0 0 0\n",
      "1 0 1\n",
      "2 0 2\n",
      "3 1 0\n",
      "4 1 1\n",
      "5 1 2\n",
      "6 2 0\n",
      "7 2 1\n",
      "8 2 2\n",
      "9 3 0\n",
      "10 3 1\n",
      "11 3 2\n",
      "12 4 0\n",
      "13 4 1\n",
      "14 4 2\n",
      "15 5 0\n",
      "16 5 1\n",
      "17 5 2\n",
      "18 6 0\n",
      "19 6 1\n"
     ]
    }
   ],
   "source": [
    "# Compare output of this cell with previous cell.\n",
    "\n",
    "for i in range(20):\n",
    "    print(i, *divmod(i, 3))"
   ]
  }
 ],
 "metadata": {
  "kernelspec": {
   "display_name": "Python 3",
   "language": "python",
   "name": "python3"
  },
  "language_info": {
   "codemirror_mode": {
    "name": "ipython",
    "version": 3
   },
   "file_extension": ".py",
   "mimetype": "text/x-python",
   "name": "python",
   "nbconvert_exporter": "python",
   "pygments_lexer": "ipython3",
   "version": "3.6.0"
  }
 },
 "nbformat": 4,
 "nbformat_minor": 2
}
