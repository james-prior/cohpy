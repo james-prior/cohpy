{
 "cells": [
  {
   "cell_type": "code",
   "execution_count": 1,
   "metadata": {
    "collapsed": false,
    "deletable": true,
    "editable": true
   },
   "outputs": [
    {
     "name": "stdout",
     "output_type": "stream",
     "text": [
      "inside loop hello\n",
      "inside loop world\n",
      "else world\n"
     ]
    }
   ],
   "source": [
    "i = 0\n",
    "stuff = ('hello', 'world', 'q', 'bar')\n",
    "\n",
    "def getstuff():\n",
    "    global i\n",
    "    \n",
    "    s = stuff[i]\n",
    "    i += 1\n",
    "    return s\n",
    "    \n",
    "for s in iter(getstuff, 'q'):\n",
    "    print(f'inside loop {s}')\n",
    "else:\n",
    "    print(f'else {s}')"
   ]
  },
  {
   "cell_type": "code",
   "execution_count": 2,
   "metadata": {
    "collapsed": false,
    "deletable": true,
    "editable": true
   },
   "outputs": [
    {
     "name": "stdout",
     "output_type": "stream",
     "text": [
      "inside loop hello\n",
      "try again\n",
      "inside loop 123\n",
      "break\n",
      "good with 123\n"
     ]
    },
    {
     "data": {
      "text/plain": [
       "123"
      ]
     },
     "execution_count": 2,
     "metadata": {},
     "output_type": "execute_result"
    }
   ],
   "source": [
    "i = 0\n",
    "stuff = ('hello', '123', 'q', 'bar')\n",
    "\n",
    "def getstuff():\n",
    "    global i\n",
    "    \n",
    "    s = stuff[i]\n",
    "    i += 1\n",
    "    return s\n",
    "\n",
    "def foo():\n",
    "    for s in iter(getstuff, 'q'):\n",
    "        print(f'inside loop {s}')\n",
    "        try:\n",
    "            x = int(s)\n",
    "        except ValueError:\n",
    "            print('try again')\n",
    "        else:\n",
    "            print('break')\n",
    "            break\n",
    "    else:\n",
    "        print(f'else {s}')\n",
    "        return None\n",
    "    \n",
    "    print(f'good with {x}')\n",
    "    return x\n",
    "    \n",
    "foo()"
   ]
  },
  {
   "cell_type": "code",
   "execution_count": 3,
   "metadata": {
    "collapsed": false,
    "deletable": true,
    "editable": true
   },
   "outputs": [
    {
     "name": "stdout",
     "output_type": "stream",
     "text": [
      "inside loop hello\n",
      "try again\n",
      "inside loop world\n",
      "try again\n",
      "else world\n"
     ]
    }
   ],
   "source": [
    "i = 0\n",
    "stuff = ('hello', 'world', 'q', 'bar')\n",
    "\n",
    "def getstuff():\n",
    "    global i\n",
    "    \n",
    "    s = stuff[i]\n",
    "    i += 1\n",
    "    return s\n",
    "\n",
    "def foo():\n",
    "    for s in iter(getstuff, 'q'):\n",
    "        print(f'inside loop {s}')\n",
    "        try:\n",
    "            x = int(s)\n",
    "        except ValueError:\n",
    "            print('try again')\n",
    "        else:\n",
    "            print('break')\n",
    "            break\n",
    "    else:\n",
    "        print(f'else {s}')\n",
    "        return None\n",
    "    \n",
    "    print(f'good with {x}')\n",
    "    return x\n",
    "    \n",
    "foo()"
   ]
  }
 ],
 "metadata": {
  "kernelspec": {
   "display_name": "Python 3",
   "language": "python",
   "name": "python3"
  },
  "language_info": {
   "codemirror_mode": {
    "name": "ipython",
    "version": 3
   },
   "file_extension": ".py",
   "mimetype": "text/x-python",
   "name": "python",
   "nbconvert_exporter": "python",
   "pygments_lexer": "ipython3",
   "version": "3.6.0"
  }
 },
 "nbformat": 4,
 "nbformat_minor": 2
}
