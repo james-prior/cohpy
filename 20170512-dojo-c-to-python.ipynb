{
 "cells": [
  {
   "cell_type": "markdown",
   "metadata": {
    "deletable": true,
    "editable": true
   },
   "source": [
    "This has a couple C programs and shows how they could be written in Python.\n",
    "There are several Python versions for each C program,\n",
    "starting with the most straightforward translation of C to Python,\n",
    "the refactoring to be more and more \"Pythonic\"."
   ]
  },
  {
   "cell_type": "code",
   "execution_count": null,
   "metadata": {
    "collapsed": true,
    "deletable": true,
    "editable": true
   },
   "outputs": [],
   "source": [
    "#include <stdio.h>\n",
    "\n",
    "#define N (10)\n",
    "\n",
    "int main(int argc, char *argv[])\n",
    "{\n",
    "    int i;\n",
    "    \n",
    "    for (i=0; i<N; i++)\n",
    "        printf(\"%d %d\\n\", i, i*i)\n",
    "}"
   ]
  },
  {
   "cell_type": "code",
   "execution_count": null,
   "metadata": {
    "collapsed": true,
    "deletable": true,
    "editable": true
   },
   "outputs": [],
   "source": [
    "N = 10\n",
    "\n",
    "def main():\n",
    "    i = 0\n",
    "    while i < N:\n",
    "        print(\"%d %d\" % (i, i*i))\n",
    "        i += 1"
   ]
  },
  {
   "cell_type": "code",
   "execution_count": null,
   "metadata": {
    "collapsed": true,
    "deletable": true,
    "editable": true
   },
   "outputs": [],
   "source": [
    "N = 10\n",
    "\n",
    "def main():\n",
    "    for i in range(N):\n",
    "        print(\"%d %d\" % (i, i*i))"
   ]
  },
  {
   "cell_type": "code",
   "execution_count": null,
   "metadata": {
    "collapsed": true,
    "deletable": true,
    "editable": true
   },
   "outputs": [],
   "source": [
    "#include <stdio.h>\n",
    "\n",
    "#define N (10)\n",
    "\n",
    "int main(int argc, char *argv[])\n",
    "{\n",
    "    int i;\n",
    "    \n",
    "    for (i=0; i<argc; i++)\n",
    "        printf(\"'%s'\\n\", argv[i])"
   ]
  },
  {
   "cell_type": "code",
   "execution_count": null,
   "metadata": {
    "collapsed": true,
    "deletable": true,
    "editable": true
   },
   "outputs": [],
   "source": [
    "import sys\n",
    "\n",
    "N = 10\n",
    "\n",
    "def main():\n",
    "    i = 0\n",
    "    while i < len(sys.argv):\n",
    "        print(\"'%s'\" % sys.argv[i])\n",
    "        i += 1"
   ]
  },
  {
   "cell_type": "code",
   "execution_count": null,
   "metadata": {
    "collapsed": true,
    "deletable": true,
    "editable": true
   },
   "outputs": [],
   "source": [
    "import sys\n",
    "\n",
    "N = 10\n",
    "\n",
    "def main():\n",
    "    for i in range(len(sys.argv)):\n",
    "        print(\"'%s'\" % sys.argv[i])"
   ]
  },
  {
   "cell_type": "code",
   "execution_count": null,
   "metadata": {
    "collapsed": true,
    "deletable": true,
    "editable": true
   },
   "outputs": [],
   "source": [
    "import sys\n",
    "\n",
    "N = 10\n",
    "\n",
    "def main():\n",
    "    for argument in sys.argv:\n",
    "        print(\"'%s'\" % argument)"
   ]
  }
 ],
 "metadata": {
  "kernelspec": {
   "display_name": "Python 3",
   "language": "python",
   "name": "python3"
  },
  "language_info": {
   "codemirror_mode": {
    "name": "ipython",
    "version": 3
   },
   "file_extension": ".py",
   "mimetype": "text/x-python",
   "name": "python",
   "nbconvert_exporter": "python",
   "pygments_lexer": "ipython3",
   "version": "3.6.0"
  }
 },
 "nbformat": 4,
 "nbformat_minor": 2
}
