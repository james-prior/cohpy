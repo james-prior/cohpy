{
 "cells": [
  {
   "cell_type": "markdown",
   "metadata": {
    "deletable": true,
    "editable": true
   },
   "source": [
    "This is based on the previous [dojo-20150131-memoization](http://colug.net/python/dojo/20150131/) notebook."
   ]
  },
  {
   "cell_type": "code",
   "execution_count": 1,
   "metadata": {
    "collapsed": false,
    "deletable": true,
    "editable": true
   },
   "outputs": [],
   "source": [
    "from __future__ import print_function"
   ]
  },
  {
   "cell_type": "markdown",
   "metadata": {
    "deletable": true,
    "editable": true
   },
   "source": [
    "We start with a function that calculates fibonacci numbers. \n",
    "Its code is very much like the definition of Fibonacci numbers."
   ]
  },
  {
   "cell_type": "code",
   "execution_count": 2,
   "metadata": {
    "collapsed": false,
    "deletable": true,
    "editable": true
   },
   "outputs": [],
   "source": [
    "def fib(n):\n",
    "    if n == 0:\n",
    "        return 0\n",
    "    elif n == 1:\n",
    "        return 1\n",
    "    else:\n",
    "        return fib(n-1) + fib(n-2)"
   ]
  },
  {
   "cell_type": "markdown",
   "metadata": {
    "deletable": true,
    "editable": true
   },
   "source": [
    "It is correct. Check the output in the following cell."
   ]
  },
  {
   "cell_type": "code",
   "execution_count": 3,
   "metadata": {
    "collapsed": false,
    "deletable": true,
    "editable": true
   },
   "outputs": [
    {
     "data": {
      "text/plain": [
       "[0, 1, 1, 2, 3, 5, 8, 13, 21, 34]"
      ]
     },
     "execution_count": 3,
     "metadata": {},
     "output_type": "execute_result"
    }
   ],
   "source": [
    "[fib(i) for i in range(10)]"
   ]
  },
  {
   "cell_type": "markdown",
   "metadata": {
    "deletable": true,
    "editable": true
   },
   "source": [
    "However, it takes an exponential amount of time to calculate fibonacci numbers. This is not so bad for small values, but exponential things become big quickly."
   ]
  },
  {
   "cell_type": "code",
   "execution_count": 4,
   "metadata": {
    "collapsed": false,
    "deletable": true,
    "editable": true
   },
   "outputs": [],
   "source": [
    "n = 33"
   ]
  },
  {
   "cell_type": "code",
   "execution_count": 5,
   "metadata": {
    "collapsed": false,
    "deletable": true,
    "editable": true
   },
   "outputs": [
    {
     "name": "stdout",
     "output_type": "stream",
     "text": [
      "1 loops, best of 3: 3.92 s per loop\n"
     ]
    },
    {
     "data": {
      "text/plain": [
       "3524578"
      ]
     },
     "execution_count": 5,
     "metadata": {},
     "output_type": "execute_result"
    }
   ],
   "source": [
    "%timeit fib(n)\n",
    "fib(n)"
   ]
  },
  {
   "cell_type": "markdown",
   "metadata": {
    "deletable": true,
    "editable": true
   },
   "source": [
    "The problem is that the naïve function recalculates Fibonacci numbers. \n",
    "Some code is added to keep track of how many times the function is called for each input value."
   ]
  },
  {
   "cell_type": "code",
   "execution_count": 6,
   "metadata": {
    "collapsed": false,
    "deletable": true,
    "editable": true
   },
   "outputs": [],
   "source": [
    "from collections import Counter"
   ]
  },
  {
   "cell_type": "code",
   "execution_count": 7,
   "metadata": {
    "collapsed": false,
    "deletable": true,
    "editable": true
   },
   "outputs": [],
   "source": [
    "def fib(n):\n",
    "    global c\n",
    "    \n",
    "    c[n] += 1\n",
    "    if n == 0:\n",
    "        return 0\n",
    "    elif n == 1:\n",
    "        return 1\n",
    "    else:\n",
    "        return fib(n-1) + fib(n-2)"
   ]
  },
  {
   "cell_type": "code",
   "execution_count": 8,
   "metadata": {
    "collapsed": false,
    "deletable": true,
    "editable": true
   },
   "outputs": [
    {
     "data": {
      "text/plain": [
       "3524578"
      ]
     },
     "execution_count": 8,
     "metadata": {},
     "output_type": "execute_result"
    }
   ],
   "source": [
    "c = Counter()\n",
    "fib(n)"
   ]
  },
  {
   "cell_type": "code",
   "execution_count": 9,
   "metadata": {
    "collapsed": false,
    "deletable": true,
    "editable": true
   },
   "outputs": [
    {
     "name": "stdout",
     "output_type": "stream",
     "text": [
      "33 1\n",
      "32 1\n",
      "31 2\n",
      "30 3\n",
      "29 5\n",
      "28 8\n",
      "27 13\n",
      "26 21\n",
      "25 34\n",
      "24 55\n",
      "23 89\n",
      "22 144\n",
      "21 233\n",
      "20 377\n",
      "19 610\n",
      "18 987\n",
      "17 1597\n",
      "16 2584\n",
      "15 4181\n",
      "14 6765\n",
      "13 10946\n",
      "12 17711\n",
      "11 28657\n",
      "10 46368\n",
      "9 75025\n",
      "8 121393\n",
      "7 196418\n",
      "6 317811\n",
      "5 514229\n",
      "4 832040\n",
      "3 1346269\n",
      "2 2178309\n",
      "1 3524578\n",
      "0 2178309\n",
      "\n",
      "11405773\n"
     ]
    }
   ],
   "source": [
    "for i in sorted(c, reverse=True):\n",
    "    print(i, c[i])\n",
    "print()\n",
    "print(sum(c.values()))"
   ]
  },
  {
   "cell_type": "markdown",
   "metadata": {
    "deletable": true,
    "editable": true
   },
   "source": [
    "No wonder it is so slow. By the way, do you see a pattern in the numbers?"
   ]
  },
  {
   "cell_type": "markdown",
   "metadata": {
    "deletable": true,
    "editable": true
   },
   "source": [
    "By the way, here's another way of sorting and iterating through the counts."
   ]
  },
  {
   "cell_type": "code",
   "execution_count": 10,
   "metadata": {
    "collapsed": false,
    "deletable": true,
    "editable": true
   },
   "outputs": [
    {
     "name": "stdout",
     "output_type": "stream",
     "text": [
      "(33, 1)\n",
      "(32, 1)\n",
      "(31, 2)\n",
      "(30, 3)\n",
      "(29, 5)\n",
      "(28, 8)\n",
      "(27, 13)\n",
      "(26, 21)\n",
      "(25, 34)\n",
      "(24, 55)\n",
      "(23, 89)\n",
      "(22, 144)\n",
      "(21, 233)\n",
      "(20, 377)\n",
      "(19, 610)\n",
      "(18, 987)\n",
      "(17, 1597)\n",
      "(16, 2584)\n",
      "(15, 4181)\n",
      "(14, 6765)\n",
      "(13, 10946)\n",
      "(12, 17711)\n",
      "(11, 28657)\n",
      "(10, 46368)\n",
      "(9, 75025)\n",
      "(8, 121393)\n",
      "(7, 196418)\n",
      "(6, 317811)\n",
      "(5, 514229)\n",
      "(4, 832040)\n",
      "(3, 1346269)\n",
      "(2, 2178309)\n",
      "(1, 3524578)\n",
      "(0, 2178309)\n",
      "\n",
      "11405773\n"
     ]
    }
   ],
   "source": [
    "for item in sorted(c.items(), key=(lambda x: x[0]), reverse=True):\n",
    "    print(item)\n",
    "print()\n",
    "print(sum(c.values()))"
   ]
  },
  {
   "cell_type": "markdown",
   "metadata": {
    "deletable": true,
    "editable": true
   },
   "source": [
    "The above output has parentheses, because item is a tuple. We can avoid the parentheses, by explicitly indexing the elements of the tuple as in the next cell."
   ]
  },
  {
   "cell_type": "code",
   "execution_count": 11,
   "metadata": {
    "collapsed": false,
    "deletable": true,
    "editable": true
   },
   "outputs": [
    {
     "name": "stdout",
     "output_type": "stream",
     "text": [
      "33 1\n",
      "32 1\n",
      "31 2\n",
      "30 3\n",
      "29 5\n",
      "28 8\n",
      "27 13\n",
      "26 21\n",
      "25 34\n",
      "24 55\n",
      "23 89\n",
      "22 144\n",
      "21 233\n",
      "20 377\n",
      "19 610\n",
      "18 987\n",
      "17 1597\n",
      "16 2584\n",
      "15 4181\n",
      "14 6765\n",
      "13 10946\n",
      "12 17711\n",
      "11 28657\n",
      "10 46368\n",
      "9 75025\n",
      "8 121393\n",
      "7 196418\n",
      "6 317811\n",
      "5 514229\n",
      "4 832040\n",
      "3 1346269\n",
      "2 2178309\n",
      "1 3524578\n",
      "0 2178309\n",
      "\n",
      "11405773\n"
     ]
    }
   ],
   "source": [
    "for item in sorted(c.items(), key=(lambda x: x[0]), reverse=True):\n",
    "    print(item[0], item[1])\n",
    "print()\n",
    "print(sum(c.values()))"
   ]
  },
  {
   "cell_type": "markdown",
   "metadata": {
    "deletable": true,
    "editable": true
   },
   "source": [
    "Another example of how to avoid the parentheses, without having to explicitly index each element of the tuple, is to use a leading '*' to unpack the tuple into separate arguments to the print function."
   ]
  },
  {
   "cell_type": "code",
   "execution_count": 12,
   "metadata": {
    "collapsed": false,
    "deletable": true,
    "editable": true
   },
   "outputs": [
    {
     "name": "stdout",
     "output_type": "stream",
     "text": [
      "33 1\n",
      "32 1\n",
      "31 2\n",
      "30 3\n",
      "29 5\n",
      "28 8\n",
      "27 13\n",
      "26 21\n",
      "25 34\n",
      "24 55\n",
      "23 89\n",
      "22 144\n",
      "21 233\n",
      "20 377\n",
      "19 610\n",
      "18 987\n",
      "17 1597\n",
      "16 2584\n",
      "15 4181\n",
      "14 6765\n",
      "13 10946\n",
      "12 17711\n",
      "11 28657\n",
      "10 46368\n",
      "9 75025\n",
      "8 121393\n",
      "7 196418\n",
      "6 317811\n",
      "5 514229\n",
      "4 832040\n",
      "3 1346269\n",
      "2 2178309\n",
      "1 3524578\n",
      "0 2178309\n",
      "\n",
      "11405773\n"
     ]
    }
   ],
   "source": [
    "for item in sorted(c.items(), key=(lambda x: x[0]), reverse=True):\n",
    "    print(*item)\n",
    "print()\n",
    "print(sum(c.values()))"
   ]
  },
  {
   "cell_type": "markdown",
   "metadata": {
    "deletable": true,
    "editable": true
   },
   "source": [
    "We can make the function quicker, by calculating each Fibonacci number only once. \n",
    "When a previously calculated value is needed, we just return that previously calculated number."
   ]
  },
  {
   "cell_type": "code",
   "execution_count": 13,
   "metadata": {
    "collapsed": false,
    "deletable": true,
    "editable": true
   },
   "outputs": [],
   "source": [
    "def fib(n):\n",
    "    global c\n",
    "    global cache\n",
    "    \n",
    "    c[n] += 1\n",
    "    if n in cache:\n",
    "        return cache[n]\n",
    "    if n == 0:\n",
    "        f = 0\n",
    "    elif n == 1:\n",
    "        f = 1\n",
    "    else:\n",
    "        f = fib(n-1) + fib(n-2)\n",
    "    cache[n] = f\n",
    "    return f"
   ]
  },
  {
   "cell_type": "code",
   "execution_count": 14,
   "metadata": {
    "collapsed": false,
    "deletable": true,
    "editable": true
   },
   "outputs": [],
   "source": [
    "# just to make them global\n",
    "c = None\n",
    "cache = None"
   ]
  },
  {
   "cell_type": "code",
   "execution_count": 15,
   "metadata": {
    "collapsed": false,
    "deletable": true,
    "editable": true
   },
   "outputs": [
    {
     "name": "stdout",
     "output_type": "stream",
     "text": [
      "10000 loops, best of 3: 94.8 us per loop\n"
     ]
    }
   ],
   "source": [
    "def foo(n):\n",
    "    global c\n",
    "    global cache\n",
    "    \n",
    "    c = Counter()\n",
    "    cache = {}\n",
    "    fib(n)\n",
    "%timeit foo(n)"
   ]
  },
  {
   "cell_type": "markdown",
   "metadata": {
    "deletable": true,
    "editable": true
   },
   "source": [
    "That is over 40,000 times faster than the naïve version. Let's look at the details."
   ]
  },
  {
   "cell_type": "code",
   "execution_count": 16,
   "metadata": {
    "collapsed": false,
    "deletable": true,
    "editable": true
   },
   "outputs": [
    {
     "name": "stdout",
     "output_type": "stream",
     "text": [
      "33 3524578 1\n",
      "32 2178309 1\n",
      "31 1346269 2\n",
      "30 832040 2\n",
      "29 514229 2\n",
      "28 317811 2\n",
      "27 196418 2\n",
      "26 121393 2\n",
      "25 75025 2\n",
      "24 46368 2\n",
      "23 28657 2\n",
      "22 17711 2\n",
      "21 10946 2\n",
      "20 6765 2\n",
      "19 4181 2\n",
      "18 2584 2\n",
      "17 1597 2\n",
      "16 987 2\n",
      "15 610 2\n",
      "14 377 2\n",
      "13 233 2\n",
      "12 144 2\n",
      "11 89 2\n",
      "10 55 2\n",
      "9 34 2\n",
      "8 21 2\n",
      "7 13 2\n",
      "6 8 2\n",
      "5 5 2\n",
      "4 3 2\n",
      "3 2 2\n",
      "2 1 2\n",
      "1 1 2\n",
      "0 0 1\n",
      "\n",
      "65\n"
     ]
    }
   ],
   "source": [
    "c = Counter()\n",
    "cache = {}\n",
    "fib(n)\n",
    "for i in sorted(c.keys(), reverse=True):\n",
    "    print(i, cache[i], c[i])\n",
    "print()\n",
    "print(sum(c.values()))"
   ]
  },
  {
   "cell_type": "markdown",
   "metadata": {
    "deletable": true,
    "editable": true
   },
   "source": [
    "Now let's clean up the code. First, let's remove the counting stuff, since we know the answer for that now."
   ]
  },
  {
   "cell_type": "code",
   "execution_count": 17,
   "metadata": {
    "collapsed": false,
    "deletable": true,
    "editable": true
   },
   "outputs": [],
   "source": [
    "def fib(n):\n",
    "    global cache\n",
    "    \n",
    "    if n in cache:\n",
    "        return cache[n]\n",
    "    if n == 0:\n",
    "        f = 0\n",
    "    elif n == 1:\n",
    "        f = 1\n",
    "    else:\n",
    "        f = fib(n-1) + fib(n-2)\n",
    "    cache[n] = f\n",
    "    return f"
   ]
  },
  {
   "cell_type": "code",
   "execution_count": 18,
   "metadata": {
    "collapsed": false,
    "deletable": true,
    "editable": true
   },
   "outputs": [
    {
     "name": "stdout",
     "output_type": "stream",
     "text": [
      "10000 loops, best of 3: 35.9 us per loop\n"
     ]
    }
   ],
   "source": [
    "def foo(n):\n",
    "    global cache\n",
    "    \n",
    "    cache = {}\n",
    "    fib(n)\n",
    "%timeit foo(n)"
   ]
  },
  {
   "cell_type": "markdown",
   "metadata": {
    "deletable": true,
    "editable": true
   },
   "source": [
    "Taking out the diagnostic counting code made it faster yet. \n",
    "The caching code makes the fib() function ugly and I don't \n",
    "like needing to remember to initialize the cache, \n",
    "so let's separate the caching into a separate function. \n",
    "Note that memoize() doesn't know anything about the fib() function, \n",
    "except that it takes a single argument.\n",
    "memoize() can be applied to many single argument functions."
   ]
  },
  {
   "cell_type": "code",
   "execution_count": 19,
   "metadata": {
    "collapsed": false,
    "deletable": true,
    "editable": true
   },
   "outputs": [],
   "source": [
    "def memoize(f):\n",
    "    results = {}\n",
    "    def helper(x):\n",
    "        if x not in results:\n",
    "            results[x] = f(x)\n",
    "        return results[x]\n",
    "    return helper"
   ]
  },
  {
   "cell_type": "code",
   "execution_count": 20,
   "metadata": {
    "collapsed": false,
    "deletable": true,
    "editable": true
   },
   "outputs": [],
   "source": [
    "def fib(n):\n",
    "    if n == 0:\n",
    "        return 0\n",
    "    elif n == 1:\n",
    "        return 1\n",
    "    else:\n",
    "        return fib(n-1) + fib(n-2)"
   ]
  },
  {
   "cell_type": "code",
   "execution_count": 21,
   "metadata": {
    "collapsed": false,
    "deletable": true,
    "editable": true
   },
   "outputs": [],
   "source": [
    "fib = memoize(fib)"
   ]
  },
  {
   "cell_type": "code",
   "execution_count": 22,
   "metadata": {
    "collapsed": false,
    "deletable": true,
    "editable": true
   },
   "outputs": [],
   "source": [
    "def foo(n):\n",
    "    def fib(n):\n",
    "        if n == 0:\n",
    "            return 0\n",
    "        elif n == 1:\n",
    "            return 1\n",
    "        else:\n",
    "            return fib(n-1) + fib(n-2)\n",
    "    fib = memoize(fib)\n",
    "    %timeit -n 1 fib(n)"
   ]
  },
  {
   "cell_type": "code",
   "execution_count": 23,
   "metadata": {
    "collapsed": false,
    "deletable": true,
    "editable": true
   },
   "outputs": [
    {
     "name": "stdout",
     "output_type": "stream",
     "text": [
      "1 loops, best of 3: 3.1 us per loop\n",
      "1 loops, best of 3: 3.1 us per loop\n",
      "1 loops, best of 3: 3.1 us per loop\n",
      "1 loops, best of 3: 3.1 us per loop\n",
      "1 loops, best of 3: 2.15 us per loop\n",
      "1 loops, best of 3: 2.86 us per loop\n",
      "1 loops, best of 3: 954 ns per loop\n",
      "1 loops, best of 3: 1.91 us per loop\n",
      "1 loops, best of 3: 2.15 us per loop\n",
      "1 loops, best of 3: 1.91 us per loop\n",
      "1 loops, best of 3: 1.91 us per loop\n",
      "1 loops, best of 3: 954 ns per loop\n",
      "1 loops, best of 3: 1.91 us per loop\n",
      "1 loops, best of 3: 2.15 us per loop\n",
      "1 loops, best of 3: 1.91 us per loop\n",
      "1 loops, best of 3: 1.91 us per loop\n",
      "1 loops, best of 3: 1.91 us per loop\n",
      "1 loops, best of 3: 954 ns per loop\n",
      "1 loops, best of 3: 954 ns per loop\n",
      "1 loops, best of 3: 1.91 us per loop\n"
     ]
    }
   ],
   "source": [
    "for i in range(20):\n",
    "    foo(n)"
   ]
  },
  {
   "cell_type": "markdown",
   "metadata": {
    "deletable": true,
    "editable": true
   },
   "source": [
    "That yielded yet another big speed increase. It's now over a million times faster than the original function."
   ]
  },
  {
   "cell_type": "code",
   "execution_count": 24,
   "metadata": {
    "collapsed": false,
    "deletable": true,
    "editable": true
   },
   "outputs": [
    {
     "name": "stdout",
     "output_type": "stream",
     "text": [
      "1000000 loops, best of 3: 399 ns per loop\n"
     ]
    }
   ],
   "source": [
    "%timeit fib(n)"
   ]
  },
  {
   "cell_type": "markdown",
   "metadata": {
    "deletable": true,
    "editable": true
   },
   "source": [
    "That's faster yet, but perhaps deceptively so. \n",
    "%timeit did fib(n) many times, but initialized the results cache only once."
   ]
  },
  {
   "cell_type": "markdown",
   "metadata": {
    "deletable": true,
    "editable": true
   },
   "source": [
    "Next, let's use the syntactic sugar of a function decorator to eliminate the fib = memoize(fib) statement.\n",
    "The @memoize decorator can be used for many single argument functions."
   ]
  },
  {
   "cell_type": "code",
   "execution_count": 25,
   "metadata": {
    "collapsed": false,
    "deletable": true,
    "editable": true
   },
   "outputs": [],
   "source": [
    "@memoize\n",
    "def fib(n):\n",
    "    if n == 0:\n",
    "        return 0\n",
    "    elif n == 1:\n",
    "        return 1\n",
    "    else:\n",
    "        return fib(n-1) + fib(n-2)"
   ]
  },
  {
   "cell_type": "code",
   "execution_count": 26,
   "metadata": {
    "collapsed": false,
    "deletable": true,
    "editable": true
   },
   "outputs": [
    {
     "name": "stdout",
     "output_type": "stream",
     "text": [
      "1000000 loops, best of 3: 400 ns per loop\n"
     ]
    }
   ],
   "source": [
    "%timeit fib(n)"
   ]
  },
  {
   "cell_type": "markdown",
   "metadata": {
    "deletable": true,
    "editable": true
   },
   "source": [
    "That yielded about the same speed. The code is now both simple and fast."
   ]
  },
  {
   "cell_type": "markdown",
   "metadata": {
    "deletable": true,
    "editable": true
   },
   "source": [
    "How would one measure the speed of starting with an empty cache each time?"
   ]
  },
  {
   "cell_type": "markdown",
   "metadata": {
    "deletable": true,
    "editable": true
   },
   "source": [
    "#Review\n",
    "\n",
    "What are the limitations of memoize() and @memoize?\n",
    "\n",
    "* Only works for functions that accept a single argument.\n",
    "* The function argument must be acceptable as a dictionary key.\n",
    "* Only works for functions, not generators.\n",
    "* Size of results dictionary might become too large.\n",
    "\n",
    "How would you work around those limitations?\n",
    "\n",
    "* Only works for functions that accept a single argument.\n",
    "    - Try *args and **kwargs stuff.\n",
    "* The function argument(s) must be acceptable as a dictionary key.\n",
    "    - Might try a partial solution. Save the result when the input can be used as a dictionary key, otherwise, just calculate the result.\n",
    "* Only works for functions, not generators.\n",
    "    - Could use cache internal to generator (but would lack elegant general wrapper function or decorator like memoize).\n",
    "* Size of results dictionary might become too large.\n",
    "    - Might limit the size of the dictionary.\n",
    "        - Beyond that, just calculate the result.\n",
    "        - Might also save only the results for the most common input, or the results which are the most \"expensive\" to calculate.\n",
    "    - Might have multi-stage caching, where first cache is dictionary within Python, and secondary or tertiary caches are saved outside of Python, such as in a file, a database, or a server.\n"
   ]
  },
  {
   "cell_type": "code",
   "execution_count": 27,
   "metadata": {
    "collapsed": false,
    "deletable": true,
    "editable": true
   },
   "outputs": [
    {
     "name": "stdout",
     "output_type": "stream",
     "text": [
      "Architecture:          i686\r\n",
      "CPU op-mode(s):        32-bit\r\n",
      "Byte Order:            Little Endian\r\n",
      "CPU(s):                2\r\n",
      "On-line CPU(s) list:   0,1\r\n",
      "Thread(s) per core:    1\r\n",
      "Core(s) per socket:    2\r\n",
      "Socket(s):             1\r\n",
      "Vendor ID:             GenuineIntel\r\n",
      "CPU family:            6\r\n",
      "Model:                 14\r\n",
      "Stepping:              8\r\n",
      "CPU MHz:               2000.000\r\n",
      "BogoMIPS:              3994.62\r\n",
      "Virtualization:        VT-x\r\n",
      "L1d cache:             32K\r\n",
      "L1i cache:             32K\r\n",
      "L2 cache:              2048K\r\n"
     ]
    }
   ],
   "source": [
    "# By the way, this computer is modest.\n",
    "!lscpu"
   ]
  },
  {
   "cell_type": "markdown",
   "metadata": {
    "deletable": true,
    "editable": true
   },
   "source": [
    "After the 2015-02-23 CohPy presentation of the above, it was suggested to use the .get() method of dictionaries to avoid the if statement inside helper(). The point is to make the code simpler and more elegant. Unfortunately, the .get() method would not change the dictionary, so the return value from the .get() method would have to be saved. That new memoize function would look like the following. It does succeed in getting rid the if statement, but the 'results[x] = results' looks ugly. Even worse, f(x) is *always* called, defeating the memoization."
   ]
  },
  {
   "cell_type": "code",
   "execution_count": 28,
   "metadata": {
    "collapsed": false,
    "deletable": true,
    "editable": true
   },
   "outputs": [],
   "source": [
    "def memoize(f):\n",
    "    results = {}\n",
    "    def helper(x):\n",
    "        results[x] = results.get(x, f(x))\n",
    "        return results[x]\n",
    "    return helper"
   ]
  },
  {
   "cell_type": "code",
   "execution_count": 29,
   "metadata": {
    "collapsed": false,
    "deletable": true,
    "editable": true
   },
   "outputs": [],
   "source": [
    "@memoize\n",
    "def fib(n):\n",
    "    if n == 0:\n",
    "        return 0\n",
    "    elif n == 1:\n",
    "        return 1\n",
    "    else:\n",
    "        return fib(n-1) + fib(n-2)"
   ]
  },
  {
   "cell_type": "code",
   "execution_count": 30,
   "metadata": {
    "collapsed": false,
    "deletable": true,
    "editable": true
   },
   "outputs": [
    {
     "name": "stdout",
     "output_type": "stream",
     "text": [
      "1 loops, best of 3: 10.9 s per loop\n"
     ]
    },
    {
     "data": {
      "text/plain": [
       "3524578"
      ]
     },
     "execution_count": 30,
     "metadata": {},
     "output_type": "execute_result"
    }
   ],
   "source": [
    "%timeit fib(n)\n",
    "fib(n)"
   ]
  },
  {
   "cell_type": "markdown",
   "metadata": {
    "deletable": true,
    "editable": true
   },
   "source": [
    "Using the .setdefault() method instead of the .get() method looks better, but suffers the same flaw of defeating the memoization by *always* calling f(x)."
   ]
  },
  {
   "cell_type": "code",
   "execution_count": 31,
   "metadata": {
    "collapsed": false,
    "deletable": true,
    "editable": true
   },
   "outputs": [],
   "source": [
    "def memoize(f):\n",
    "    results = {}\n",
    "    def helper(x):\n",
    "        return results.setdefault(x, f(x))\n",
    "    return helper"
   ]
  },
  {
   "cell_type": "code",
   "execution_count": 32,
   "metadata": {
    "collapsed": false,
    "deletable": true,
    "editable": true
   },
   "outputs": [],
   "source": [
    "@memoize\n",
    "def fib(n):\n",
    "    if n == 0:\n",
    "        return 0\n",
    "    elif n == 1:\n",
    "        return 1\n",
    "    else:\n",
    "        return fib(n-1) + fib(n-2)"
   ]
  },
  {
   "cell_type": "code",
   "execution_count": 33,
   "metadata": {
    "collapsed": false,
    "deletable": true,
    "editable": true
   },
   "outputs": [
    {
     "name": "stdout",
     "output_type": "stream",
     "text": [
      "1 loops, best of 3: 9.16 s per loop\n"
     ]
    },
    {
     "data": {
      "text/plain": [
       "3524578"
      ]
     },
     "execution_count": 33,
     "metadata": {},
     "output_type": "execute_result"
    }
   ],
   "source": [
    "%timeit fib(n)\n",
    "fib(n)"
   ]
  },
  {
   "cell_type": "markdown",
   "metadata": {},
   "source": [
    "#### 2017-08-04 Addendum\n",
    "\n",
    "\n",
    "My memoize decorator is fun and good for exploring closures and decorators.\n",
    "For real projects,\n",
    "use [functools.lru_cache](https://docs.python.org/3/library/functools.html#functools.lru_cache)\n",
    "instead of my memoize decorator."
   ]
  }
 ],
 "metadata": {
  "kernelspec": {
   "display_name": "Python 3",
   "language": "python",
   "name": "python3"
  },
  "language_info": {
   "codemirror_mode": {
    "name": "ipython",
    "version": 3
   },
   "file_extension": ".py",
   "mimetype": "text/x-python",
   "name": "python",
   "nbconvert_exporter": "python",
   "pygments_lexer": "ipython3",
   "version": "3.6.0"
  }
 },
 "nbformat": 4,
 "nbformat_minor": 0
}
