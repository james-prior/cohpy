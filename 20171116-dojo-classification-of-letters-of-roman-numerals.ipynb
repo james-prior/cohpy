{
 "cells": [
  {
   "cell_type": "markdown",
   "metadata": {
    "deletable": true,
    "editable": true
   },
   "source": [
    "Someone else had some code in some other language that was something like the following couple of cells."
   ]
  },
  {
   "cell_type": "code",
   "execution_count": 1,
   "metadata": {
    "collapsed": true,
    "deletable": true,
    "editable": true
   },
   "outputs": [],
   "source": [
    "roman_letter_values = (\n",
    "    ('I', 1),\n",
    "    ('V', 5),\n",
    "    ('X', 10),\n",
    "    ('L', 50),\n",
    "    ('C', 100),\n",
    "    ('D', 500),\n",
    "    ('M', 1000),\n",
    ")"
   ]
  },
  {
   "cell_type": "code",
   "execution_count": 2,
   "metadata": {
    "collapsed": false,
    "deletable": true,
    "editable": true
   },
   "outputs": [
    {
     "name": "stdout",
     "output_type": "stream",
     "text": [
      "1 V 5\n",
      "3 L 50\n",
      "5 D 500\n"
     ]
    }
   ],
   "source": [
    "for i, (letter, value) in enumerate(roman_letter_values):\n",
    "    if i % 2 == 1:\n",
    "        print(i, letter, value)"
   ]
  },
  {
   "cell_type": "markdown",
   "metadata": {
    "deletable": true,
    "editable": true
   },
   "source": [
    "I know what the code above means, but I have to think about it.\n",
    "It was hard to understand,\n",
    "because the test above as repeated below, is so indirect.\n",
    "\n",
    "    if i % 2 == 1:\n",
    "\n",
    "Compare that with the directness of the following test from cell #12.\n",
    "\n",
    "    if significant_digits(value) == 5:\n",
    "    "
   ]
  },
  {
   "cell_type": "code",
   "execution_count": 3,
   "metadata": {
    "collapsed": true,
    "deletable": true,
    "editable": true
   },
   "outputs": [],
   "source": [
    "def prime_factors(x):\n",
    "    divisor = 2\n",
    "    while divisor < x:\n",
    "        if x % divisor == 0:\n",
    "            yield divisor\n",
    "            x //= divisor\n",
    "            continue\n",
    "        divisor += 1\n",
    "    yield x"
   ]
  },
  {
   "cell_type": "code",
   "execution_count": 4,
   "metadata": {
    "collapsed": false,
    "deletable": true,
    "editable": true
   },
   "outputs": [
    {
     "name": "stdout",
     "output_type": "stream",
     "text": [
      "I 1 [1]\n",
      "V 5 [5]\n",
      "X 10 [2, 5]\n",
      "L 50 [2, 5, 5]\n",
      "C 100 [2, 2, 5, 5]\n",
      "D 500 [2, 2, 5, 5, 5]\n",
      "M 1000 [2, 2, 2, 5, 5, 5]\n"
     ]
    }
   ],
   "source": [
    "for letter, value in roman_letter_values:\n",
    "    print(letter, value, list(prime_factors(value)))"
   ]
  },
  {
   "cell_type": "code",
   "execution_count": 5,
   "metadata": {
    "collapsed": true,
    "deletable": true,
    "editable": true
   },
   "outputs": [],
   "source": [
    "def significant_digits(x):\n",
    "    return int(''.join(reversed(str(x))))"
   ]
  },
  {
   "cell_type": "code",
   "execution_count": 6,
   "metadata": {
    "collapsed": true,
    "deletable": true,
    "editable": true
   },
   "outputs": [],
   "source": [
    "def foo():\n",
    "    for letter, value in roman_letter_values:\n",
    "        print(letter, value, significant_digits(value))"
   ]
  },
  {
   "cell_type": "code",
   "execution_count": 7,
   "metadata": {
    "collapsed": false,
    "deletable": true,
    "editable": true
   },
   "outputs": [
    {
     "name": "stdout",
     "output_type": "stream",
     "text": [
      "I 1 1\n",
      "V 5 5\n",
      "X 10 1\n",
      "L 50 5\n",
      "C 100 1\n",
      "D 500 5\n",
      "M 1000 1\n"
     ]
    }
   ],
   "source": [
    "foo()"
   ]
  },
  {
   "cell_type": "code",
   "execution_count": 8,
   "metadata": {
    "collapsed": true,
    "deletable": true,
    "editable": true
   },
   "outputs": [],
   "source": [
    "def significant_digits(x):\n",
    "    return int(str(x).rstrip('0'))"
   ]
  },
  {
   "cell_type": "code",
   "execution_count": 9,
   "metadata": {
    "collapsed": false,
    "deletable": true,
    "editable": true
   },
   "outputs": [
    {
     "name": "stdout",
     "output_type": "stream",
     "text": [
      "I 1 1\n",
      "V 5 5\n",
      "X 10 1\n",
      "L 50 5\n",
      "C 100 1\n",
      "D 500 5\n",
      "M 1000 1\n"
     ]
    }
   ],
   "source": [
    "foo()"
   ]
  },
  {
   "cell_type": "code",
   "execution_count": 10,
   "metadata": {
    "collapsed": true,
    "deletable": true,
    "editable": true
   },
   "outputs": [],
   "source": [
    "def significant_digits(x):\n",
    "    while x % 10 == 0:\n",
    "        x //= 10\n",
    "    return x"
   ]
  },
  {
   "cell_type": "code",
   "execution_count": 11,
   "metadata": {
    "collapsed": false,
    "deletable": true,
    "editable": true
   },
   "outputs": [
    {
     "name": "stdout",
     "output_type": "stream",
     "text": [
      "I 1 1\n",
      "V 5 5\n",
      "X 10 1\n",
      "L 50 5\n",
      "C 100 1\n",
      "D 500 5\n",
      "M 1000 1\n"
     ]
    }
   ],
   "source": [
    "foo()"
   ]
  },
  {
   "cell_type": "code",
   "execution_count": 12,
   "metadata": {
    "collapsed": false,
    "deletable": true,
    "editable": true
   },
   "outputs": [
    {
     "name": "stdout",
     "output_type": "stream",
     "text": [
      "V 5\n",
      "L 50\n",
      "D 500\n"
     ]
    }
   ],
   "source": [
    "for letter, value in roman_letter_values:\n",
    "    if significant_digits(value) == 5:\n",
    "        print(letter, value)"
   ]
  },
  {
   "cell_type": "markdown",
   "metadata": {
    "deletable": true,
    "editable": true
   },
   "source": [
    "Of the three different implementations of significant_digits() above,\n",
    "which do you like the most?\n",
    "Which do you dislike the most?\n",
    "How would you write significant_digits()?"
   ]
  }
 ],
 "metadata": {
  "kernelspec": {
   "display_name": "Python 3",
   "language": "python",
   "name": "python3"
  },
  "language_info": {
   "codemirror_mode": {
    "name": "ipython",
    "version": 3
   },
   "file_extension": ".py",
   "mimetype": "text/x-python",
   "name": "python",
   "nbconvert_exporter": "python",
   "pygments_lexer": "ipython3",
   "version": "3.6.0"
  }
 },
 "nbformat": 4,
 "nbformat_minor": 2
}
